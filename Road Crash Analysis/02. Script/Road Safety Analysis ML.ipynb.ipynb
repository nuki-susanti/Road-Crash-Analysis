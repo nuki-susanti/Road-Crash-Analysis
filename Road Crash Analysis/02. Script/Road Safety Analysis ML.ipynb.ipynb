{
 "cells": [
  {
   "cell_type": "code",
   "execution_count": null,
   "id": "c06dd994-3535-4a40-b767-47a605875115",
   "metadata": {},
   "outputs": [],
   "source": [
    "import pandas as pd\n",
    "import numpy as np\n",
    "import seaborn as sns\n",
    "import matplotlib.pyplot as plt\n",
    "import os\n",
    "import gc\n",
    "\n",
    "from sklearn.preprocessing import OneHotEncoder, LabelEncoder\n",
    "from sklearn.model_selection import train_test_split\n",
    "from sklearn.tree import DecisionTreeClassifier, plot_tree\n",
    "from sklearn.metrics import accuracy_score, confusion_matrix\n",
    "\n",
    "from sklearn.ensemble import RandomForestClassifier\n",
    "from sklearn.linear_model import LinearRegression, LogisticRegression\n",
    "from sklearn.feature_selection import RFE\n",
    "from sklearn.linear_model import RidgeCV, LassoCV, Ridge, Lasso"
   ]
  },
  {
   "cell_type": "code",
   "execution_count": null,
   "id": "bf826ab8-29a3-4780-9825-1fe1988fcdbd",
   "metadata": {},
   "outputs": [],
   "source": [
    "%matplotlib inline"
   ]
  },
  {
   "cell_type": "code",
   "execution_count": null,
   "id": "fe14f6b0-c86f-4dde-ae59-a212e1c03887",
   "metadata": {},
   "outputs": [],
   "source": [
    "path = r'C:\\Users\\nukis\\Documents\\Projects\\08. Road Safety'"
   ]
  },
  {
   "cell_type": "code",
   "execution_count": null,
   "id": "ee389c9c-1992-4622-a4bf-586b2c4cace0",
   "metadata": {},
   "outputs": [],
   "source": [
    "df_crash = pd.read_pickle(os.path.join(path, '01. Data', 'Prepared data', 'crash_cleaned.pkl'))"
   ]
  },
  {
   "cell_type": "code",
   "execution_count": null,
   "id": "a3179566-97eb-4af0-866d-578f590682a2",
   "metadata": {},
   "outputs": [],
   "source": [
    "df_uncas = pd.read_pickle(os.path.join(path, '01. Data', 'Prepared data', 'unitcasualty_cleaned.pkl'))"
   ]
  },
  {
   "cell_type": "markdown",
   "id": "1519a4b4-06ee-4c4b-b394-4e5da9f171b6",
   "metadata": {
    "tags": []
   },
   "source": [
    "### 2. Merging Dataframes"
   ]
  },
  {
   "cell_type": "code",
   "execution_count": null,
   "id": "8a5c7131-f395-4ca3-abdb-b42e56287be8",
   "metadata": {
    "tags": []
   },
   "outputs": [],
   "source": [
    "df = df_crash.merge(df_uncas, on = 'REPORT_ID', how = 'left')"
   ]
  },
  {
   "cell_type": "code",
   "execution_count": null,
   "id": "61df774f-e50a-4c8f-ba5e-02fa5d779cfd",
   "metadata": {
    "tags": []
   },
   "outputs": [],
   "source": [
    "# Command to maximize view of rows and columns\n",
    "\n",
    "pd.options.display.max_rows = None\n",
    "pd.options.display.max_columns = len(df.columns)"
   ]
  },
  {
   "cell_type": "code",
   "execution_count": null,
   "id": "4c1d5d4d-31b1-4867-8935-6bdfc3f912e0",
   "metadata": {},
   "outputs": [],
   "source": [
    "df.shape"
   ]
  },
  {
   "cell_type": "code",
   "execution_count": null,
   "id": "ec7f51c9-81f8-4cd6-89a4-5417d1742a61",
   "metadata": {
    "tags": []
   },
   "outputs": [],
   "source": [
    "df.info()"
   ]
  },
  {
   "cell_type": "markdown",
   "id": "d1f26c80-3603-424b-916e-da326090868e",
   "metadata": {},
   "source": [
    "### 3. Data Cleaning"
   ]
  },
  {
   "cell_type": "code",
   "execution_count": null,
   "id": "7f16f63e-221c-4293-abd3-f9711da0831a",
   "metadata": {},
   "outputs": [],
   "source": [
    "# Cleaning Space\n",
    "\n",
    "cat = df.select_dtypes(include = ['object']).columns\n",
    "\n",
    "for i in cat:\n",
    "    try:\n",
    "        df[i] = df[i].apply(lambda x: x.strip())\n",
    "        df[i] = df[i].apply(lambda x: x.title())\n",
    "        df.loc[(df[i] == 'Unknown') | (df[i] == 'N/A') | (df[i] == 'Xx') | (df[i] == 'Xxx') | (df[i] == 'Xxxx'), i] = np.NaN\n",
    "    except:\n",
    "        print(i)"
   ]
  },
  {
   "cell_type": "code",
   "execution_count": null,
   "id": "253721c2-a842-40ae-bb95-9a1ec9a9ba9b",
   "metadata": {
    "tags": []
   },
   "outputs": [],
   "source": [
    "# Check for missing values\n",
    "\n",
    "df.isnull().sum()"
   ]
  },
  {
   "cell_type": "code",
   "execution_count": null,
   "id": "4af5f374-1efa-4356-9923-830904d5adfc",
   "metadata": {
    "tags": []
   },
   "outputs": [],
   "source": [
    "# Check for missing values\n",
    "\n",
    "pd.DataFrame(data = [round(i/len(df) * 100, 2) for i in df.isnull().sum().to_list()], index = df.columns, columns = ['Missing Values %']).T"
   ]
  },
  {
   "cell_type": "code",
   "execution_count": null,
   "id": "a059890a-de09-4f8b-a18f-36a41c322fc9",
   "metadata": {},
   "outputs": [],
   "source": [
    "# Dropping the missing values from data\n",
    "\n",
    "df.dropna(inplace=True)\n",
    "df.shape"
   ]
  },
  {
   "cell_type": "code",
   "execution_count": null,
   "id": "528c5e1a-b85d-49c5-a956-540eea4a5a1a",
   "metadata": {
    "tags": []
   },
   "outputs": [],
   "source": [
    "# Check again for missing values\n",
    "\n",
    "df.isnull().sum()"
   ]
  },
  {
   "cell_type": "code",
   "execution_count": null,
   "id": "0f035066-e28f-4ad1-a0a3-7c0455243772",
   "metadata": {},
   "outputs": [],
   "source": [
    "# Check for duplicates\n",
    "\n",
    "dups = df.duplicated(keep = 'last')\n",
    "dups.sum() "
   ]
  },
  {
   "cell_type": "code",
   "execution_count": null,
   "id": "d4351923-40df-42a5-b0ee-2ca93f7e649d",
   "metadata": {},
   "outputs": [],
   "source": [
    "# Drop duplicates\n",
    "\n",
    "df = df.drop_duplicates()\n",
    "dups = df.duplicated()\n",
    "dups.sum()"
   ]
  },
  {
   "cell_type": "code",
   "execution_count": null,
   "id": "f4b0c2e8-cd02-4281-85fa-41444c7e2da7",
   "metadata": {},
   "outputs": [],
   "source": [
    "# Check for mixed-type data in dataframe\n",
    "\n",
    "for col in df.columns.tolist():\n",
    "  weird = (df[[col]].applymap(type) != df[[col]].iloc[0].apply(type)).any(axis = 1)\n",
    "  if len (df[weird]) > 0:\n",
    "    print (col) # No mixed-type"
   ]
  },
  {
   "cell_type": "code",
   "execution_count": null,
   "id": "af3b0843-5bcc-46e6-848b-7ed4fcfefe68",
   "metadata": {},
   "outputs": [],
   "source": [
    "df.shape"
   ]
  },
  {
   "cell_type": "code",
   "execution_count": null,
   "id": "3f7f8c40-0158-46eb-90f7-0d563fa7bafe",
   "metadata": {
    "tags": []
   },
   "outputs": [],
   "source": [
    "df.info()"
   ]
  },
  {
   "cell_type": "code",
   "execution_count": null,
   "id": "9bb0427e-8a1e-4f89-ac15-36bbbcdbd0ac",
   "metadata": {
    "tags": []
   },
   "outputs": [],
   "source": [
    "# Convert data type\n",
    "\n",
    "df['Age'] = df['Age'].astype('int64')\n",
    "df['DUI Involved'] = df['DUI Involved'].astype('int64')\n",
    "df['Drugs Involved'] = df['Drugs Involved'].astype('int64')\n",
    "df['Lat'] = df['Lat'].astype('float64')\n",
    "df['Lon'] = df['Lon'].astype('float64')\n",
    "df['Veh Year'] = df['Veh Year'].astype('float64')"
   ]
  },
  {
   "cell_type": "markdown",
   "id": "35e728bc-c459-4fc7-b6ee-e16eb91d7030",
   "metadata": {},
   "source": [
    "### 4. Data Pre-Prossesing"
   ]
  },
  {
   "cell_type": "markdown",
   "id": "c1d5f425-7526-42af-bd02-a8d200a278d7",
   "metadata": {},
   "source": [
    "#### Hour Grouping\n",
    "##### Hour is converted into hourly basis."
   ]
  },
  {
   "cell_type": "code",
   "execution_count": null,
   "id": "e8eb0b07-840a-4d05-b391-d52b7bbb8669",
   "metadata": {},
   "outputs": [],
   "source": [
    "hourly = []\n",
    "\n",
    "for i in df['Hour']:\n",
    "    n = 2\n",
    "    i = i[:n]\n",
    "        \n",
    "    hourly.append(i)"
   ]
  },
  {
   "cell_type": "code",
   "execution_count": null,
   "id": "e8228a8d-f1cb-4db0-b4f2-533b64f23d2f",
   "metadata": {
    "tags": []
   },
   "outputs": [],
   "source": [
    "df['Hourly'] = hourly\n",
    "df['Hourly'] = df['Hourly'].astype('int64')"
   ]
  },
  {
   "cell_type": "code",
   "execution_count": null,
   "id": "994f5872-9c94-4268-9750-7939769b1c6a",
   "metadata": {},
   "outputs": [],
   "source": [
    "df = df.drop(columns = ['REPORT_ID', 'Hour'])"
   ]
  },
  {
   "cell_type": "markdown",
   "id": "f70bc513-183d-4ace-9070-bea0043ccb6d",
   "metadata": {},
   "source": [
    "#### Day Grouping"
   ]
  },
  {
   "cell_type": "code",
   "execution_count": null,
   "id": "4c481145-9f72-44fd-ab19-50d1a5941e7c",
   "metadata": {},
   "outputs": [],
   "source": [
    "df.loc[(df['Day'] == 'Monday') | (df['Day'] == 'Tuesday') | (df['Day'] == 'Wednesday') |\n",
    "           (df['Day'] == 'Thursday') | (df['Day'] == 'Friday'), 'Day Group'] = 'Weekday'\n",
    "df.loc[(df['Day'] == 'Saturday') | (df['Day'] == 'Sunday'), 'Day Group'] = 'Weekend'"
   ]
  },
  {
   "cell_type": "markdown",
   "id": "39db7bdb-c367-4626-8fcc-eef80e076111",
   "metadata": {},
   "source": [
    "#### Month Grouping"
   ]
  },
  {
   "cell_type": "code",
   "execution_count": null,
   "id": "41b0655b-af95-4710-9645-2715940587ac",
   "metadata": {},
   "outputs": [],
   "source": [
    "df.loc[(df['Month'] == 'January') | (df['Month'] == 'February') | (df['Month'] == 'March'), 'Month Group'] = 'Q1'\n",
    "df.loc[(df['Month'] == 'April') | (df['Month'] == 'May') | (df['Month'] == 'June'), 'Month Group'] = 'Q2'\n",
    "df.loc[(df['Month'] == 'July') | (df['Month'] == 'August') | (df['Month'] == 'September'), 'Month Group'] = 'Q3'\n",
    "df.loc[(df['Month'] == 'October') | (df['Month'] == 'November') | (df['Month'] == 'December'), 'Month Group'] = 'Q1'"
   ]
  },
  {
   "cell_type": "markdown",
   "id": "fb875469-55ec-4666-9a8a-7b5ef00bbc85",
   "metadata": {},
   "source": [
    "#### Target Column"
   ]
  },
  {
   "cell_type": "code",
   "execution_count": null,
   "id": "65a1e4a4-3a31-4737-95bc-11714185285b",
   "metadata": {},
   "outputs": [],
   "source": [
    "# Changing name of the target column\n",
    "\n",
    "df = df.rename(columns = {'CSEF Severity' : 'Target'})"
   ]
  },
  {
   "cell_type": "code",
   "execution_count": null,
   "id": "1404df14-9d36-4cd6-925b-6f3c19a996c6",
   "metadata": {},
   "outputs": [],
   "source": [
    "target_trim = []\n",
    "\n",
    "for i in df['Target']:\n",
    "    target_trim.append(i[3:])"
   ]
  },
  {
   "cell_type": "code",
   "execution_count": null,
   "id": "adbdcbf5-eebb-43f3-afc3-15bdf57708a2",
   "metadata": {
    "tags": []
   },
   "outputs": [],
   "source": [
    "df['Target'] = target_trim"
   ]
  },
  {
   "cell_type": "code",
   "execution_count": null,
   "id": "323f8250-6471-489c-bee9-1dfdc999a98c",
   "metadata": {
    "tags": []
   },
   "outputs": [],
   "source": [
    "df.info()"
   ]
  },
  {
   "cell_type": "code",
   "execution_count": null,
   "id": "6516d597-c3f6-4692-8543-fc173c686d0b",
   "metadata": {},
   "outputs": [],
   "source": [
    "# Export data to pkl\n",
    "\n",
    "df.to_pickle(os.path.join(path, '01. Data', 'Prepared data', 'road_safety_cleaned.pkl'))\n",
    "df.to_csv(os.path.join(path, '01. Data', 'Prepared data', 'road_safety_cleaned.csv'), sep = ',')"
   ]
  },
  {
   "cell_type": "markdown",
   "id": "956e62ff-d8c1-49e1-970e-954122f0fe62",
   "metadata": {},
   "source": [
    "#### Accident Severity Analysis"
   ]
  },
  {
   "cell_type": "code",
   "execution_count": null,
   "id": "34e64457-9cf3-4aec-a323-08901c58845d",
   "metadata": {
    "tags": []
   },
   "outputs": [],
   "source": [
    "labels = ['Property Damage Only', 'Minor Injury', 'Serious Injury', 'Fatality']\n",
    "colors = ['#FEF9A7', '#FAC213', '#F77E21', '#D61C4E']\n",
    "\n",
    "fig, ax = plt.subplots()\n",
    "myexplode = (0.05, 0.05, 0.05, 0.2)\n",
    "\n",
    "ax.pie(df['Target'].value_counts(), explode = myexplode, labels = labels,autopct='%1.1f%%', \n",
    "        wedgeprops={'linewidth': 3.0, 'edgecolor': 'white'}, startangle = 90, colors = colors)\n",
    "\n",
    "ax.set_title('Accident Severity', fontsize = 14)\n",
    "plt.show()"
   ]
  },
  {
   "cell_type": "code",
   "execution_count": null,
   "id": "2a0a2757-5d2a-4d08-aa11-ff747f183e0c",
   "metadata": {},
   "outputs": [],
   "source": [
    "# Function for drawing countplot\n",
    "\n",
    "def countplot(x):\n",
    "    plt.figure(figsize = (8, 6))\n",
    "    sns.countplot(data = df, x = x, palette = 'mako_r', \n",
    "                  order = df[x].value_counts().index)"
   ]
  },
  {
   "cell_type": "code",
   "execution_count": null,
   "id": "cdb635ef-4501-4f29-aa89-ed748640c51c",
   "metadata": {
    "tags": []
   },
   "outputs": [],
   "source": [
    "countplot('Target')"
   ]
  },
  {
   "cell_type": "markdown",
   "id": "63d23989-8ea0-4a8b-8fd0-4423f2b3c702",
   "metadata": {},
   "source": [
    "#### As we can see, there are 4 classes of severity. We can see that the distribution of the classes is greatly disbalanced. 'Property Damage Only (PDO)' class is in majority while 'Fatality (Fatal)' class is the minority here.\n",
    "#### Due to imbalance dataset, binary classification will be performed. For this purpose, classes of Mi, Si and Fatal will be grouped together as Injury/Death."
   ]
  },
  {
   "cell_type": "code",
   "execution_count": null,
   "id": "6b287c9b-bdc7-4b4b-bc96-f0928a46170a",
   "metadata": {},
   "outputs": [],
   "source": [
    "# Grouping Minor injury, Serious injury abd fatality into one class\n",
    "\n",
    "df.loc[df['Target'] == 'Mi', 'Target'] = 'Injury/Death'\n",
    "df.loc[df['Target'] == 'Si', 'Target'] = 'Injury/Death'\n",
    "df.loc[df['Target'] == 'Fatal', 'Target'] = 'Injury/Death'\n",
    "df.loc[df['Target'] == 'Pdo', 'Target'] = 'PDO'"
   ]
  },
  {
   "cell_type": "code",
   "execution_count": null,
   "id": "306ada78-9cde-4f53-bde0-1d69205c5820",
   "metadata": {
    "tags": []
   },
   "outputs": [],
   "source": [
    "labels = ['PDO', 'Injury/Death']\n",
    "colors = ['#FEF9A7', '#D61C4E']\n",
    "\n",
    "fig, ax = plt.subplots()\n",
    "myexplode = (0.05, 0.05)\n",
    "\n",
    "ax.pie(df['Target'].value_counts(), explode = myexplode, labels = labels,autopct='%1.1f%%', \n",
    "        wedgeprops={'linewidth': 3.0, 'edgecolor': 'white'}, startangle = 90, colors = colors)\n",
    "\n",
    "ax.set_title('Accident Severity', fontsize = 14)\n",
    "plt.show()"
   ]
  },
  {
   "cell_type": "code",
   "execution_count": null,
   "id": "c70f384e-7c86-4350-8527-17d8650424e2",
   "metadata": {
    "tags": []
   },
   "outputs": [],
   "source": [
    "countplot('Target')"
   ]
  },
  {
   "cell_type": "code",
   "execution_count": null,
   "id": "8eccfbc0-f0a9-41bc-bf7e-ea8810d1f3b2",
   "metadata": {
    "tags": []
   },
   "outputs": [],
   "source": [
    "df.describe()"
   ]
  },
  {
   "cell_type": "code",
   "execution_count": null,
   "id": "f65111d5-d39d-4986-ad4b-a9959f299cc8",
   "metadata": {
    "tags": []
   },
   "outputs": [],
   "source": [
    "# There is outliers in Vehicle Year column: 1900 will be removed\n",
    "\n",
    "df = df.loc[df['Veh Year'] >= 1940]"
   ]
  },
  {
   "cell_type": "code",
   "execution_count": null,
   "id": "617f6131-9d43-4aa3-9a67-719bf204a929",
   "metadata": {},
   "outputs": [],
   "source": [
    "df.shape"
   ]
  },
  {
   "cell_type": "markdown",
   "id": "3130d23b-64a1-4eb9-8aea-ae1a44c0b8fa",
   "metadata": {},
   "source": [
    "#### Label-Encoding for Target Column"
   ]
  },
  {
   "cell_type": "code",
   "execution_count": null,
   "id": "6479a9fe-bcad-4f24-b3d3-7ee7477596ce",
   "metadata": {},
   "outputs": [],
   "source": [
    "labelencoder = LabelEncoder()"
   ]
  },
  {
   "cell_type": "code",
   "execution_count": null,
   "id": "ca747782-d131-4054-aa93-239f848a3dd0",
   "metadata": {},
   "outputs": [],
   "source": [
    "df['Target'] = labelencoder.fit_transform(df['Target']) # Target column\n",
    "df['Target'] = df['Target'].astype('int64')\n",
    "\n",
    "dict(zip(labelencoder.inverse_transform([0,1]),[0,1]))"
   ]
  },
  {
   "cell_type": "markdown",
   "id": "478d8c82-ed58-4a47-a394-5cadc7f07cac",
   "metadata": {},
   "source": [
    "### 5. One-Hot-Encoding for categorical data\n",
    "#### As many of the features are categorical, One-Hot-Encoding is performed."
   ]
  },
  {
   "cell_type": "code",
   "execution_count": null,
   "id": "fbaae326-67e2-4e48-897f-1993ac58c1d9",
   "metadata": {},
   "outputs": [],
   "source": [
    "# Creating categorical features list\n",
    "\n",
    "catvar = df.select_dtypes(include = ['object']).columns\n",
    "catvar"
   ]
  },
  {
   "cell_type": "code",
   "execution_count": null,
   "id": "1695a1d5-575b-4e4e-a23c-8c9b458cc4a5",
   "metadata": {},
   "outputs": [],
   "source": [
    "# Creating one hot encoder object \n",
    "\n",
    "onehotencoder = OneHotEncoder(handle_unknown = 'ignore') # Whether to raise an error"
   ]
  },
  {
   "cell_type": "code",
   "execution_count": null,
   "id": "de1b9b25-7162-44f7-bb33-ee163db8a237",
   "metadata": {},
   "outputs": [],
   "source": [
    "# Fit and transform the data using the .fit_transform() method\n",
    "# return the array version of the transformed data using the .toarray() method\n",
    "\n",
    "df_enc = onehotencoder.fit_transform(df[catvar]).toarray()\n",
    "df_enc"
   ]
  },
  {
   "cell_type": "code",
   "execution_count": null,
   "id": "dc68fec9-a815-45b7-957c-8f1ee91a9364",
   "metadata": {
    "tags": []
   },
   "outputs": [],
   "source": [
    "feature_array = onehotencoder.get_feature_names_out()\n",
    "feature_array"
   ]
  },
  {
   "cell_type": "code",
   "execution_count": null,
   "id": "c0cf04fa-4b09-446b-89fc-be94f3664711",
   "metadata": {
    "tags": []
   },
   "outputs": [],
   "source": [
    "# Convert to dataframe\n",
    "\n",
    "df_enc = pd.DataFrame(df_enc, columns = feature_array)\n",
    "df_enc.head()"
   ]
  },
  {
   "cell_type": "code",
   "execution_count": null,
   "id": "c93cbe86-9e51-401a-8f4d-a7b15f96b8c0",
   "metadata": {
    "tags": []
   },
   "outputs": [],
   "source": [
    "df_enc.shape"
   ]
  },
  {
   "cell_type": "code",
   "execution_count": null,
   "id": "53d84c6d-567a-418c-82ba-9f4d58b1a081",
   "metadata": {
    "tags": []
   },
   "outputs": [],
   "source": [
    "# Concatenate with the dataframe\n",
    "\n",
    "df_num = df.drop(columns = catvar, axis = 1).reset_index()\n",
    "df_num = df_num.drop(columns = 'index', axis = 1)\n",
    "df_num.shape"
   ]
  },
  {
   "cell_type": "code",
   "execution_count": null,
   "id": "aa16a299-9784-4b9f-a998-92e897de5063",
   "metadata": {},
   "outputs": [],
   "source": [
    "df_new = pd.concat([df_num, df_enc], axis=1)\n",
    "df_new.shape"
   ]
  },
  {
   "cell_type": "code",
   "execution_count": null,
   "id": "e0577951-2f27-4380-9202-d509eaef476e",
   "metadata": {},
   "outputs": [],
   "source": [
    "# Export data to pkl\n",
    "\n",
    "df_new.to_pickle(os.path.join(path, '01. Data', 'Prepared data', 'road_safety_encoded.pkl'))\n",
    "df_new.to_csv(os.path.join(path, '01. Data', 'Prepared data', 'road_safety_encoded.csv'), sep = ',')"
   ]
  },
  {
   "cell_type": "markdown",
   "id": "24d76dcc-2b73-40b4-8d7f-3618fafb076e",
   "metadata": {},
   "source": [
    "### 6. Feature Selection\n",
    "#### A. Filter Method (Pearson Correlation)"
   ]
  },
  {
   "cell_type": "code",
   "execution_count": null,
   "id": "434337a2-f4f4-4403-9566-8b41e19bf7d6",
   "metadata": {
    "tags": []
   },
   "outputs": [],
   "source": [
    "X = df_new.drop(columns = 'Target') # Features\n",
    "y = df_new['Target'] # Dependent variable (Target)"
   ]
  },
  {
   "cell_type": "code",
   "execution_count": null,
   "id": "77853639-d182-4b38-ab70-703c6b49131b",
   "metadata": {},
   "outputs": [],
   "source": [
    "cor = df_new.corr() # It can be plotted using heatmap, but there are too many features"
   ]
  },
  {
   "cell_type": "code",
   "execution_count": null,
   "id": "2de4295b-33c6-4f4f-b200-87c6cb05d76c",
   "metadata": {
    "tags": []
   },
   "outputs": [],
   "source": [
    "cor_target = abs(cor['Target'])\n",
    "\n",
    "#Selecting highly correlated features\n",
    "relevant_features = cor_target[cor_target > 0.5]\n",
    "relevant_features"
   ]
  },
  {
   "cell_type": "markdown",
   "id": "96794bd3-d136-4e87-945f-564727bb24f6",
   "metadata": {},
   "source": [
    "##### Here only Total Causalty is highly correlated with the target variable. From data perspective, it makes sense that casualty number correlates to the crash severity.\n",
    "##### However, from road safety perspective, some other factors shoud also play a role, such as road condition, driver conditiion, etc. Therefore, this feature selection method will not be considered.\n",
    "##### In other words, this method is less accurate."
   ]
  },
  {
   "cell_type": "markdown",
   "id": "db9aa4fc-0fab-4c23-bc67-c6aabf20a0b6",
   "metadata": {},
   "source": [
    "#### B. Wrapper Method (RFE (Recursive Feature Elimination))\n",
    "\n",
    "##### It works by recursively removing attributes and building a model on those attributes that remain. It uses accuracy metric to rank the feature according to their importance. \n",
    "##### The RFE method takes the model to be used and the number of required features as input. It then gives the ranking of all the variables, 1 being most important. It also gives its support, True being relevant feature and False being irrelevant feature."
   ]
  },
  {
   "cell_type": "code",
   "execution_count": null,
   "id": "d0b01b62-d494-47fe-a148-9baec33d4978",
   "metadata": {},
   "outputs": [],
   "source": [
    "model = LinearRegression()"
   ]
  },
  {
   "cell_type": "code",
   "execution_count": null,
   "id": "00b3c3cc-bf33-498b-90ed-081658bd7f33",
   "metadata": {},
   "outputs": [],
   "source": [
    "rfe = RFE(model, n_features_to_select = 15) #15 is random selection"
   ]
  },
  {
   "cell_type": "code",
   "execution_count": null,
   "id": "27c31b0b-b022-4f64-85be-56624e8b9d53",
   "metadata": {
    "tags": []
   },
   "outputs": [],
   "source": [
    "#Transforming data using RFE\n",
    "\n",
    "X_rfe = rfe.fit_transform(X,y) "
   ]
  },
  {
   "cell_type": "code",
   "execution_count": null,
   "id": "88d4ce2a-b09b-4766-9b34-51a56a7473cb",
   "metadata": {
    "tags": []
   },
   "outputs": [],
   "source": [
    "#Fitting the data to model\n",
    "model.fit(X_rfe,y)\n",
    "\n",
    "print(rfe.support_)\n",
    "print(rfe.ranking_)"
   ]
  },
  {
   "cell_type": "code",
   "execution_count": null,
   "id": "dbbd4c1c-8de1-4b7e-915d-558af16e75f8",
   "metadata": {},
   "outputs": [],
   "source": [
    "#no of features\n",
    "\n",
    "nof_list = np.arange(1, 15)            \n",
    "high_score = 0\n",
    "\n",
    "#Variable to store the optimum features\n",
    "\n",
    "nof = 0           \n",
    "score_list = []\n",
    "\n",
    "for n in range(len(nof_list)):\n",
    "    X_train, X_test, y_train, y_test = train_test_split(X, y, test_size = 0.3, random_state = 0)\n",
    "    \n",
    "    model = LinearRegression()\n",
    "    rfe = RFE(model, n_features_to_select=nof_list[n])\n",
    "    X_train_rfe = rfe.fit_transform(X_train,y_train)\n",
    "    X_test_rfe = rfe.transform(X_test)\n",
    "    \n",
    "    model.fit(X_train_rfe,y_train)\n",
    "    \n",
    "    score = model.score(X_test_rfe,y_test)\n",
    "    score_list.append(score)\n",
    "    \n",
    "    if(score>high_score):\n",
    "        high_score = score\n",
    "        nof = nof_list[n]\n",
    "\n",
    "print(\"Optimum number of features: %d\" %nof)\n",
    "print(\"Score with %d features: %f\" % (nof, high_score))"
   ]
  },
  {
   "cell_type": "markdown",
   "id": "03c63d0d-2804-4446-b284-ed5a331a1d06",
   "metadata": {},
   "source": [
    "##### As seen from above code, the optimum number of features is 12.\n",
    "##### We now feed 12 as number of features to RFE and get the final set of features given by RFE method."
   ]
  },
  {
   "cell_type": "code",
   "execution_count": null,
   "id": "c5957f58-e813-4bb3-9c62-9ffd67ef7859",
   "metadata": {},
   "outputs": [],
   "source": [
    "cols = list(X.columns)\n",
    "model = LinearRegression() #Initializing RFE model\n",
    "\n",
    "rfe = RFE(model, n_features_to_select = 12) #Transforming data using RFE\n",
    "\n",
    "X_rfe = rfe.fit_transform(X,y)  #Fitting the data to model\n",
    "model.fit(X_rfe,y)\n",
    "\n",
    "temp = pd.Series(rfe.support_, index = cols)\n",
    "selected_features_rfe = temp[temp == True].index\n",
    "print(selected_features_rfe)"
   ]
  },
  {
   "cell_type": "markdown",
   "id": "9deb35ea-a4e3-4a7a-887b-b6e8bb9146e9",
   "metadata": {},
   "source": [
    "#### From this method, it seems that place and time features play a role, which might be a hint to include place- and time-related features into the model.\n",
    "#### For sake of validation, embedded method is performed as follows."
   ]
  },
  {
   "cell_type": "markdown",
   "id": "ec135255-35bf-4834-8c7f-8657aac70ec3",
   "metadata": {},
   "source": [
    "#### C. Embedded Method"
   ]
  },
  {
   "cell_type": "code",
   "execution_count": null,
   "id": "b0d435ed-ec97-4786-8f22-0be7b74825b3",
   "metadata": {},
   "outputs": [],
   "source": [
    "reg = LassoCV()\n",
    "reg.fit(X, y)\n",
    "\n",
    "print(\"Best alpha using built-in LassoCV: %f\" % reg.alpha_)\n",
    "print(\"Best score using built-in LassoCV: %f\" %reg.score(X,y))\n",
    "coef = pd.Series(reg.coef_, index = X.columns)"
   ]
  },
  {
   "cell_type": "code",
   "execution_count": null,
   "id": "efea0823-20e3-4711-8c48-73c2a1910f16",
   "metadata": {},
   "outputs": [],
   "source": [
    "print(\"Lasso picked \" + str(sum(coef != 0)) + \" variables and eliminated the other \" +  str(sum(coef == 0)) + \" variables\")"
   ]
  },
  {
   "cell_type": "code",
   "execution_count": null,
   "id": "f77d76ab-1a32-4e40-8173-dd296d30eeba",
   "metadata": {
    "tags": []
   },
   "outputs": [],
   "source": [
    "imp_coef = coef.sort_values()\n",
    "imp_coef"
   ]
  },
  {
   "cell_type": "code",
   "execution_count": null,
   "id": "195de704-fd3f-43f7-a79b-4f9c38b71f3e",
   "metadata": {
    "tags": []
   },
   "outputs": [],
   "source": [
    "selected_features = imp_coef.loc[(imp_coef > 1e-2) | (imp_coef < -0)]\n",
    "selected_features "
   ]
  },
  {
   "cell_type": "code",
   "execution_count": null,
   "id": "9e1644d1-3f68-4b30-ae1f-2be015ec63c5",
   "metadata": {
    "tags": []
   },
   "outputs": [],
   "source": [
    "plt.rcParams['figure.figsize'] = (20, 10)\n",
    "selected_features.plot(kind = 'barh')\n",
    "plt.title('Feature importance using Lasso Model')"
   ]
  },
  {
   "cell_type": "markdown",
   "id": "bb5acf72-0581-45ed-81a3-8ac1c15b7cb1",
   "metadata": {},
   "source": [
    "##### Embeded method seems also to give the same tendency. Therefore, all place- and time-related features will be selected."
   ]
  },
  {
   "cell_type": "markdown",
   "id": "02304726-71e0-4348-b36c-f951320a9718",
   "metadata": {},
   "source": [
    "#### D. Selecting Features"
   ]
  },
  {
   "cell_type": "code",
   "execution_count": null,
   "id": "18b83956-4faf-4ace-adc5-54d68a007d44",
   "metadata": {
    "tags": []
   },
   "outputs": [],
   "source": [
    "features = ['Target', 'Total Cas', 'Total Units', 'Total SI', 'Total MI', 'Total Fats', \n",
    "            'DUI Involved', 'Drugs Involved', 'DayNight_Daylight', 'DayNight_Night', \n",
    "            'Month_April', 'Month_August','Month_December', 'Month_February', 'Month_January', 'Month_July',\n",
    "       'Month_June', 'Month_March', 'Month_May', 'Month_November',\n",
    "       'Month_October', 'Month_September', 'Day_Friday', 'Day_Monday',\n",
    "       'Day_Saturday', 'Day_Sunday', 'Day_Thursday', 'Day_Tuesday',\n",
    "       'Day_Wednesday', 'Crash Type_Hit Animal', 'Crash Type_Hit Fixed Object',\n",
    "       'Crash Type_Hit Object On Road', 'Crash Type_Hit Parked Vehicle',\n",
    "       'Crash Type_Hit Pedestrian',\n",
    "       'Crash Type_Left Road - Out Of Control', 'Crash Type_Other',\n",
    "       'Crash Type_Rear End', 'Crash Type_Right Angle',\n",
    "       'Crash Type_Right Turn', 'Crash Type_Roll Over',\n",
    "       'Crash Type_Side Swipe', 'Direction Of Travel_North', 'Direction Of Travel_North East',\n",
    "       'Direction Of Travel_North West', 'Direction Of Travel_South',\n",
    "       'Direction Of Travel_South East', 'Direction Of Travel_South West',\n",
    "       'Direction Of Travel_West', 'Traffic Ctrls_Give Way Sign', 'Traffic Ctrls_No Control',\n",
    "       'Traffic Ctrls_Other', 'Traffic Ctrls_Rail Xing - Boom',\n",
    "       'Traffic Ctrls_Rail Xing - Flashing',\n",
    "       'Traffic Ctrls_Rail Xing - No Control',\n",
    "       'Traffic Ctrls_Rail Xing-Traffic Signals', 'Day Group_Weekday', 'Day Group_Weekend', 'Position Type_Crossover', 'Position Type_Divided Road',\n",
    "       'Position Type_Freeway', 'Position Type_Interchange',\n",
    "       'Position Type_Multiple', 'Position Type_Not Divided',\n",
    "       'Position Type_One Way', 'Position Type_Other',\n",
    "       'Position Type_Pedestrian Crossing', 'Position Type_Rail Crossing',\n",
    "       'Position Type_Rail Xing', 'Position Type_Ramp Off',\n",
    "       'Position Type_Ramp On', 'Position Type_T-Junction',\n",
    "       'Position Type_Y-Junction', 'Sex_Female', 'Sex_Male', 'Age', 'Vertical Align_Crest Of Hill', 'Vertical Align_Level',\n",
    "       'Vertical Align_Slope', 'Weather Cond_Not Raining', 'Weather Cond_Raining']"
   ]
  },
  {
   "cell_type": "code",
   "execution_count": null,
   "id": "abd082ba-b960-4097-9759-ce7eb2c62a59",
   "metadata": {},
   "outputs": [],
   "source": [
    "df_new2 = df_new[features]\n",
    "df_new2.shape"
   ]
  },
  {
   "cell_type": "markdown",
   "id": "5cd4be5f-44ac-40bd-bbbc-7b1901f80f64",
   "metadata": {},
   "source": [
    "### 6. Building model"
   ]
  },
  {
   "cell_type": "markdown",
   "id": "fd6b05dc-f914-4047-ba03-c43c69a9d853",
   "metadata": {},
   "source": [
    "#### A Decision Tree is a non-parametric supervised learning method used for classification and regression. The goal is to create a model that predicts the value of a target variable by learning simple decision rules (if-else) inferred from the data features."
   ]
  },
  {
   "cell_type": "markdown",
   "id": "0be723e9-2721-4bc7-912e-5f262cb5ef89",
   "metadata": {},
   "source": [
    "#### Preparing and Splitting Dataset"
   ]
  },
  {
   "cell_type": "code",
   "execution_count": null,
   "id": "15958a3e-51ee-4690-9817-06e12312ec0e",
   "metadata": {},
   "outputs": [],
   "source": [
    "X = df_new2.drop(columns = 'Target') # Features\n",
    "y = df_new2['Target'] # Dependent variable (Target)"
   ]
  },
  {
   "cell_type": "code",
   "execution_count": null,
   "id": "95765d47-f570-42da-8857-c1b99d607197",
   "metadata": {},
   "outputs": [],
   "source": [
    "y.value_counts()"
   ]
  },
  {
   "cell_type": "code",
   "execution_count": null,
   "id": "dc4414f3-8542-49c2-a000-fb7d272e3b5f",
   "metadata": {
    "tags": []
   },
   "outputs": [],
   "source": [
    "# Divide into training-set and test-set: 80% 20% ratio\n",
    "\n",
    "X_train, X_test, y_train, y_test = train_test_split(X, y, test_size = 0.2, stratify=y)"
   ]
  },
  {
   "cell_type": "code",
   "execution_count": null,
   "id": "ea4d6743-c111-48ce-bde3-30eddf1ce0fe",
   "metadata": {},
   "outputs": [],
   "source": [
    "print(X_train.shape, X_test.shape, y_train.shape, y_test.shape)"
   ]
  },
  {
   "cell_type": "markdown",
   "id": "cb3b248d-cdc2-43fe-84bb-563472d12702",
   "metadata": {},
   "source": [
    "#### Logistic Regression"
   ]
  },
  {
   "cell_type": "code",
   "execution_count": null,
   "id": "e34e9490-3866-4452-9747-436350af7e11",
   "metadata": {},
   "outputs": [],
   "source": [
    "lgr = LogisticRegression()"
   ]
  },
  {
   "cell_type": "code",
   "execution_count": null,
   "id": "f4937624-6800-4add-9c04-753df3b18bfd",
   "metadata": {
    "tags": []
   },
   "outputs": [],
   "source": [
    "lgr.fit(X_train, y_train)"
   ]
  },
  {
   "cell_type": "code",
   "execution_count": null,
   "id": "fa957a11-5f74-4f3f-907b-b458023e2532",
   "metadata": {},
   "outputs": [],
   "source": [
    "y_pred = lgr.predict(X_test)"
   ]
  },
  {
   "cell_type": "code",
   "execution_count": null,
   "id": "0c4586cd-409b-417b-87da-b6316402dc47",
   "metadata": {},
   "outputs": [],
   "source": [
    "print(accuracy_score(y_test, y_pred))"
   ]
  },
  {
   "cell_type": "code",
   "execution_count": null,
   "id": "a648e83e-d384-43f6-8aed-73cb1c2f8df5",
   "metadata": {
    "tags": []
   },
   "outputs": [],
   "source": [
    "pd.DataFrame(lgr.coef_, columns=X_test.columns, index=['n']).T.sort_values(by='n', key=abs)"
   ]
  },
  {
   "cell_type": "markdown",
   "id": "1a93f910-dc03-4a58-9a51-e918b145957d",
   "metadata": {},
   "source": [
    "#### Decision Tree Classifier Model - Entropy"
   ]
  },
  {
   "cell_type": "code",
   "execution_count": null,
   "id": "863e2c52-f661-46f2-86dd-a70c5821eecc",
   "metadata": {},
   "outputs": [],
   "source": [
    "# Create a Decision Tree object.\n",
    "\n",
    "dtc = DecisionTreeClassifier(criterion = 'entropy')"
   ]
  },
  {
   "cell_type": "code",
   "execution_count": null,
   "id": "d36b7093-5821-4d01-ae65-4d468668fb56",
   "metadata": {
    "tags": []
   },
   "outputs": [],
   "source": [
    "# Fit the DTC object onto the training set.\n",
    "\n",
    "dtc.fit(X_train, y_train)"
   ]
  },
  {
   "cell_type": "code",
   "execution_count": null,
   "id": "9052780c-ad6c-41d9-af78-9449af178944",
   "metadata": {},
   "outputs": [],
   "source": [
    "y_pred = dtc.predict(X_test)"
   ]
  },
  {
   "cell_type": "code",
   "execution_count": null,
   "id": "7465bf49-8601-4351-b58e-5dc0dadbe7fb",
   "metadata": {},
   "outputs": [],
   "source": [
    "print('Train Accuracy:', accuracy_score(y_train, dtc.predict(X_train)))"
   ]
  },
  {
   "cell_type": "code",
   "execution_count": null,
   "id": "2c41c4a6-0494-417d-869d-45e54ce772d3",
   "metadata": {},
   "outputs": [],
   "source": [
    "print('Test Accuracy:', '{:.2f}'.format(accuracy_score(y_test, y_pred)))"
   ]
  },
  {
   "cell_type": "code",
   "execution_count": null,
   "id": "ee65873b-0e47-4542-ae36-42cd3624b772",
   "metadata": {},
   "outputs": [],
   "source": [
    "TN, FP, FN, TP = confusion_matrix(y_test, y_pred).ravel()\n",
    "\n",
    "print('True Positive(TP)  = ', TP)\n",
    "print('False Positive(FP) = ', FP)\n",
    "print('True Negative(TN)  = ', TN)\n",
    "print('False Negative(FN) = ', FN)\n"
   ]
  },
  {
   "cell_type": "code",
   "execution_count": null,
   "id": "3298a06e-397f-410a-b0a3-c385b252b509",
   "metadata": {},
   "outputs": [],
   "source": [
    "pd.Series(y_pred).value_counts()"
   ]
  },
  {
   "cell_type": "code",
   "execution_count": null,
   "id": "828bd486-3c43-43c2-842a-8234cf5b1c35",
   "metadata": {},
   "outputs": [],
   "source": [
    "pd.Series(y_test).value_counts()"
   ]
  },
  {
   "cell_type": "code",
   "execution_count": null,
   "id": "3a987e1f-d2c1-474f-8f42-b45273580943",
   "metadata": {},
   "outputs": [],
   "source": [
    "feature_cols = []\n",
    "\n",
    "for i in df_new2:\n",
    "    if i != 'Target':\n",
    "        feature_cols.append(i)"
   ]
  },
  {
   "cell_type": "code",
   "execution_count": null,
   "id": "92a867fd-642a-4435-874e-7e68eaf2cc7e",
   "metadata": {
    "tags": []
   },
   "outputs": [],
   "source": [
    "# Visualising Decision Tree\n",
    "\n",
    "plt.figure(figsize = (25, 10))\n",
    "\n",
    "dec_tree = plot_tree(dtc, feature_names = feature_cols, class_names = ['0', '1'],\n",
    "                    filled = True, rounded = True, fontsize = 14)\n",
    "plt.savefig('decisiontree.png')"
   ]
  },
  {
   "cell_type": "code",
   "execution_count": null,
   "id": "c922f203-6b36-4003-820c-122c20b4ecaf",
   "metadata": {},
   "outputs": [],
   "source": [
    "# Create a RF object.\n",
    "\n",
    "rfc = RandomForestClassifier()"
   ]
  },
  {
   "cell_type": "code",
   "execution_count": null,
   "id": "d1ea805c-ef9d-4555-872f-07de70ad24ba",
   "metadata": {},
   "outputs": [],
   "source": [
    "# Fit the DTC object onto the training set.\n",
    "\n",
    "rfc.fit(X_train, y_train)"
   ]
  },
  {
   "cell_type": "code",
   "execution_count": null,
   "id": "1eba0d4a-e117-4a2e-94f9-7da38485a46e",
   "metadata": {},
   "outputs": [],
   "source": [
    "y_pred = rfc.predict(X_test)"
   ]
  },
  {
   "cell_type": "code",
   "execution_count": null,
   "id": "593086b6-7528-4504-a6cc-97899c58cb7a",
   "metadata": {},
   "outputs": [],
   "source": [
    "print('Train Accuracy:', accuracy_score(y_train, rfc.predict(X_train)))"
   ]
  },
  {
   "cell_type": "code",
   "execution_count": null,
   "id": "25c96e5d-eb70-4f69-9a35-39d87f72a64b",
   "metadata": {},
   "outputs": [],
   "source": [
    "print('Test Accuracy:', '{:.2f}'.format(accuracy_score(y_test, y_pred)))"
   ]
  },
  {
   "cell_type": "code",
   "execution_count": null,
   "id": "606054a3-e328-47b7-8924-f877b6bc3f9c",
   "metadata": {},
   "outputs": [],
   "source": []
  },
  {
   "cell_type": "code",
   "execution_count": null,
   "id": "32d79ec3-12db-4699-97b8-0a8b68690a6a",
   "metadata": {},
   "outputs": [],
   "source": []
  },
  {
   "cell_type": "code",
   "execution_count": null,
   "id": "7e9efc35-6007-498a-8029-12e72fe6b48a",
   "metadata": {},
   "outputs": [],
   "source": [
    "gc.collect()"
   ]
  }
 ],
 "metadata": {
  "kernelspec": {
   "display_name": "Python 3 (ipykernel)",
   "language": "python",
   "name": "python3"
  },
  "language_info": {
   "codemirror_mode": {
    "name": "ipython",
    "version": 3
   },
   "file_extension": ".py",
   "mimetype": "text/x-python",
   "name": "python",
   "nbconvert_exporter": "python",
   "pygments_lexer": "ipython3",
   "version": "3.9.12"
  }
 },
 "nbformat": 4,
 "nbformat_minor": 5
}
