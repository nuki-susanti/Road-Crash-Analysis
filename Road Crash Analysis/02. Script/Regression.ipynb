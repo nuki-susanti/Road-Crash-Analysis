{
 "cells": [
  {
   "cell_type": "markdown",
   "id": "79724730-d2df-49ea-8099-9066a5fe02b4",
   "metadata": {},
   "source": [
    "### 1. Importing libraries and data"
   ]
  },
  {
   "cell_type": "code",
   "execution_count": null,
   "id": "c06dd994-3535-4a40-b767-47a605875115",
   "metadata": {},
   "outputs": [],
   "source": [
    "import pandas as pd\n",
    "import numpy as np\n",
    "import seaborn as sns\n",
    "import matplotlib.pyplot as plt\n",
    "import os\n",
    "import gc\n",
    "import operator\n",
    "\n",
    "from sklearn.model_selection import train_test_split\n",
    "from sklearn.metrics import mean_squared_error, r2_score\n",
    "from sklearn.linear_model import LinearRegression\n",
    "from sklearn.preprocessing import PolynomialFeatures"
   ]
  },
  {
   "cell_type": "code",
   "execution_count": null,
   "id": "bf826ab8-29a3-4780-9825-1fe1988fcdbd",
   "metadata": {},
   "outputs": [],
   "source": [
    "%matplotlib inline"
   ]
  },
  {
   "cell_type": "code",
   "execution_count": null,
   "id": "fe14f6b0-c86f-4dde-ae59-a212e1c03887",
   "metadata": {},
   "outputs": [],
   "source": [
    "path = r'C:\\Users\\nukis\\Documents\\Projects\\08. Road Safety'"
   ]
  },
  {
   "cell_type": "code",
   "execution_count": null,
   "id": "ee389c9c-1992-4622-a4bf-586b2c4cace0",
   "metadata": {},
   "outputs": [],
   "source": [
    "df = pd.read_pickle(os.path.join(path, '01. Data', 'Prepared data', 'road_safety_cleaned.pkl'))"
   ]
  },
  {
   "cell_type": "code",
   "execution_count": null,
   "id": "61df774f-e50a-4c8f-ba5e-02fa5d779cfd",
   "metadata": {
    "tags": []
   },
   "outputs": [],
   "source": [
    "# Command to maximize view of rows and columns\n",
    "\n",
    "pd.options.display.max_rows = None\n",
    "pd.options.display.max_columns = len(df.columns)"
   ]
  },
  {
   "cell_type": "code",
   "execution_count": null,
   "id": "991f6a0d-5bf4-4053-93ae-81884598ce16",
   "metadata": {
    "tags": []
   },
   "outputs": [],
   "source": [
    "df.head(2)"
   ]
  },
  {
   "cell_type": "code",
   "execution_count": null,
   "id": "fa093a05-172a-47f0-b68e-e805db181f01",
   "metadata": {
    "tags": []
   },
   "outputs": [],
   "source": [
    "df.info()"
   ]
  },
  {
   "cell_type": "markdown",
   "id": "50295349-efa5-4d3e-9c95-8abe79ab7232",
   "metadata": {},
   "source": [
    "### 2. Data prep for regression analysis "
   ]
  },
  {
   "cell_type": "code",
   "execution_count": null,
   "id": "52b2e7ca-dfca-4df3-a666-be56e994e0b1",
   "metadata": {
    "tags": []
   },
   "outputs": [],
   "source": [
    "df.drop(columns=['Suburb', 'LGA Name', 'Postcode', 'Total Units', 'Total Cas', 'Total Fats', 'Total SI', 'Total MI', 'Lat', 'Lon'], inplace = True)\n",
    "#df['Postcode'] = df['Postcode'].astype('int64')"
   ]
  },
  {
   "cell_type": "code",
   "execution_count": null,
   "id": "6fb97800-cf4a-461d-986a-63c474e450f7",
   "metadata": {
    "tags": []
   },
   "outputs": [],
   "source": [
    "df_new = df.groupby('Distance To CC').agg({'Distance To CC': 'count'}).rename(columns = {'Distance To CC': 'Number of Accidents'}).reset_index().sort_values(by='Distance To CC')\n",
    "df_new.head()"
   ]
  },
  {
   "cell_type": "code",
   "execution_count": null,
   "id": "9e11e750-40bd-4933-b161-d54819f56413",
   "metadata": {},
   "outputs": [],
   "source": [
    "# Create a scatterplot using matplotlib for another look at how the chosen variables plot against each other.\n",
    "\n",
    "df_new.plot(x = 'Distance To CC', y = 'Number of Accidents', style='o') # The style option creates a scatterplot; without it, we only have lines.\n",
    "plt.title('Distance to City Center vs Number of Accidents')  \n",
    "plt.xlabel('Distance to City Center (km)')  \n",
    "plt.ylabel('Number of Accidents')  \n",
    "plt.show()"
   ]
  },
  {
   "cell_type": "markdown",
   "id": "5cd4be5f-44ac-40bd-bbbc-7b1901f80f64",
   "metadata": {},
   "source": [
    "### 3. Linear Regression Analysis"
   ]
  },
  {
   "cell_type": "code",
   "execution_count": null,
   "id": "2988bfdc-a9c8-4861-9dbc-61c057e322bb",
   "metadata": {},
   "outputs": [],
   "source": [
    "# Reshape the variables into NumPy arrays and put them into separate objects.\n",
    "\n",
    "X = df_new['Distance To CC'].values.reshape(-1,1)\n",
    "y = df_new['Number of Accidents'].values.reshape(-1,1)"
   ]
  },
  {
   "cell_type": "code",
   "execution_count": null,
   "id": "602db6ea-4e49-450f-a940-7a7e15b52044",
   "metadata": {},
   "outputs": [],
   "source": [
    "X"
   ]
  },
  {
   "cell_type": "code",
   "execution_count": null,
   "id": "57dd2abc-5675-458b-afee-158a6f909bcd",
   "metadata": {},
   "outputs": [],
   "source": [
    "y"
   ]
  },
  {
   "cell_type": "code",
   "execution_count": null,
   "id": "ba995700-dbf5-4c58-bd75-6722922119e1",
   "metadata": {},
   "outputs": [],
   "source": [
    "# Split data into a training set and a test set.\n",
    "\n",
    "X_train, X_test, y_train, y_test = train_test_split(X, y, test_size=0.3, random_state=0)"
   ]
  },
  {
   "cell_type": "code",
   "execution_count": null,
   "id": "ea4d6743-c111-48ce-bde3-30eddf1ce0fe",
   "metadata": {
    "tags": []
   },
   "outputs": [],
   "source": [
    "print(X_train.shape, X_test.shape, y_train.shape, y_test.shape)"
   ]
  },
  {
   "cell_type": "code",
   "execution_count": null,
   "id": "e34e9490-3866-4452-9747-436350af7e11",
   "metadata": {},
   "outputs": [],
   "source": [
    "regression = LinearRegression() "
   ]
  },
  {
   "cell_type": "code",
   "execution_count": null,
   "id": "f4937624-6800-4add-9c04-753df3b18bfd",
   "metadata": {
    "tags": []
   },
   "outputs": [],
   "source": [
    "# Fit the regression object onto the training set.\n",
    "\n",
    "regression.fit(X_train, y_train)"
   ]
  },
  {
   "cell_type": "code",
   "execution_count": null,
   "id": "fa957a11-5f74-4f3f-907b-b458023e2532",
   "metadata": {},
   "outputs": [],
   "source": [
    "# Predict the values of y using X.\n",
    "\n",
    "y_predicted = regression.predict(X_test)"
   ]
  },
  {
   "cell_type": "code",
   "execution_count": null,
   "id": "def0fb65-1e9d-4c02-875e-c83582839e94",
   "metadata": {},
   "outputs": [],
   "source": [
    "# Create a plot that shows the regression line from the model on the test set.\n",
    "\n",
    "plot_test = plt\n",
    "linear_reg = plot_test.scatter(X_test, y_test, color='blue', s = 15)\n",
    "plot_test.plot(X_test, y_predicted, color='red', linewidth =3)\n",
    "plot_test.title('Linear Regression: Distance to City Center vs Number of Accidents', fontsize=10)\n",
    "plt.xlabel('Distance to City Center (km)', fontsize=9)  \n",
    "plt.ylabel('Number of Accidents', fontsize=9)\n",
    "plt.xticks(fontsize=8)\n",
    "plt.yticks(fontsize=8)\n",
    "plot_test.show()"
   ]
  },
  {
   "cell_type": "code",
   "execution_count": null,
   "id": "0c4586cd-409b-417b-87da-b6316402dc47",
   "metadata": {},
   "outputs": [],
   "source": [
    "# Create objects that contain the model summary statistics.\n",
    "\n",
    "rmse = mean_squared_error(y_test, y_predicted) # This is the mean squared error\n",
    "r2 = r2_score(y_test, y_predicted) # This is the R2 score. "
   ]
  },
  {
   "cell_type": "code",
   "execution_count": null,
   "id": "ef10236b-d12c-4511-917d-97eb47d1e3be",
   "metadata": {},
   "outputs": [],
   "source": [
    "# Print the model summary statistics. This is where you evaluate the performance of the model.\n",
    "\n",
    "print('Slope:' ,regression.coef_)\n",
    "print('Mean squared error: ', rmse)\n",
    "print('R2 score: ', r2)"
   ]
  },
  {
   "cell_type": "code",
   "execution_count": null,
   "id": "9a5d0700-23a2-4f04-94e9-f6abdb062398",
   "metadata": {
    "tags": []
   },
   "outputs": [],
   "source": [
    "# Create a dataframe comparing the actual and predicted values of y.\n",
    "\n",
    "data = pd.DataFrame({'Actual': y_test.flatten(), 'Predicted': y_predicted.flatten()})\n",
    "data.head(10)"
   ]
  },
  {
   "cell_type": "code",
   "execution_count": null,
   "id": "25cba3b5-7da5-4c70-ab3b-c6b93b4bac3c",
   "metadata": {},
   "outputs": [],
   "source": [
    "linear_reg.figure.savefig(os.path.join(path, '04. Visualizations', 'linear_reg.png'))"
   ]
  },
  {
   "cell_type": "markdown",
   "id": "8a58bb18-8198-4919-84ab-ffc3e5d3b39d",
   "metadata": {},
   "source": [
    "#### Linear regression is definitely not suitable for this data as it performs underfitting."
   ]
  },
  {
   "cell_type": "markdown",
   "id": "9853bce3-7a33-4a3c-bed2-67d650ffdd66",
   "metadata": {},
   "source": [
    "### 4. Polynomial Regression Analysis"
   ]
  },
  {
   "cell_type": "code",
   "execution_count": null,
   "id": "3b9d8ba9-1aa4-45a1-b13b-4110f71d7d9a",
   "metadata": {},
   "outputs": [],
   "source": [
    "polynomial_features= PolynomialFeatures(degree=2)\n",
    "X_poly = polynomial_features.fit_transform(X)"
   ]
  },
  {
   "cell_type": "code",
   "execution_count": null,
   "id": "5265ecb7-342a-4238-9b50-07d6ca47169d",
   "metadata": {},
   "outputs": [],
   "source": [
    "regression_2 = LinearRegression() "
   ]
  },
  {
   "cell_type": "code",
   "execution_count": null,
   "id": "c02cc6fc-2d50-4ef0-bff7-1fb6374e284f",
   "metadata": {
    "tags": []
   },
   "outputs": [],
   "source": [
    "# Fit the regression object onto the training set.\n",
    "\n",
    "regression_2.fit(X_poly, y)"
   ]
  },
  {
   "cell_type": "code",
   "execution_count": null,
   "id": "7b39f1e0-1202-4869-85b4-3a6b216842da",
   "metadata": {},
   "outputs": [],
   "source": [
    "# Predict the values of y using X_poly\n",
    "\n",
    "y_predicted_poly = regression_2.predict(X_poly)"
   ]
  },
  {
   "cell_type": "code",
   "execution_count": null,
   "id": "e1214996-03a6-4933-b9fb-7a8cf08320b7",
   "metadata": {},
   "outputs": [],
   "source": [
    "# Create a plot that shows the regression line from the model on the test set.\n",
    "\n",
    "plot_test = plt\n",
    "plot_test.scatter(X_test, y_test, color='gray', s = 15)\n",
    "plot_test.plot(X, y_predicted_poly, color='red', linewidth =3)\n",
    "plot_test.title('Distance to City Center vs Number of Accidents')\n",
    "plt.xlabel('Distance to City Center (km)')  \n",
    "plt.ylabel('Number of Accidents') \n",
    "plot_test.show()"
   ]
  },
  {
   "cell_type": "code",
   "execution_count": null,
   "id": "ee700836-ca3a-41dc-902a-bf13bbb7c10f",
   "metadata": {},
   "outputs": [],
   "source": [
    "# Create objects that contain the model summary statistics.\n",
    "\n",
    "rmse_2 = mean_squared_error(y, y_predicted_poly) # This is the mean squared error\n",
    "r2_2 = r2_score(y, y_predicted_poly) # This is the R2 score."
   ]
  },
  {
   "cell_type": "code",
   "execution_count": null,
   "id": "d464d389-00a2-4cc6-9b54-21443a4247e0",
   "metadata": {},
   "outputs": [],
   "source": [
    "# Print the model summary statistics. This is where you evaluate the performance of the model.\n",
    "\n",
    "print('Slope:' ,regression_2.coef_)\n",
    "print('Mean squared error: ', rmse_2)\n",
    "print('R2 score: ', r2_2)"
   ]
  },
  {
   "cell_type": "markdown",
   "id": "6faab2a7-e5de-4437-b953-9742960de12f",
   "metadata": {},
   "source": [
    "#### Polynomial regression is also not a good fit to the data."
   ]
  },
  {
   "cell_type": "code",
   "execution_count": null,
   "id": "7e9efc35-6007-498a-8029-12e72fe6b48a",
   "metadata": {},
   "outputs": [],
   "source": [
    "gc.collect()"
   ]
  }
 ],
 "metadata": {
  "kernelspec": {
   "display_name": "Python 3 (ipykernel)",
   "language": "python",
   "name": "python3"
  },
  "language_info": {
   "codemirror_mode": {
    "name": "ipython",
    "version": 3
   },
   "file_extension": ".py",
   "mimetype": "text/x-python",
   "name": "python",
   "nbconvert_exporter": "python",
   "pygments_lexer": "ipython3",
   "version": "3.9.12"
  }
 },
 "nbformat": 4,
 "nbformat_minor": 5
}
