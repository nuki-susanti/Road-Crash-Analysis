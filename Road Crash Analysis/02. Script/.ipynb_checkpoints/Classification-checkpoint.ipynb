{
 "cells": [
  {
   "cell_type": "markdown",
   "id": "9b7d42c1-b170-4b09-b629-ce6e87f49877",
   "metadata": {},
   "source": [
    "### 1. Importing libraries and data"
   ]
  },
  {
   "cell_type": "code",
   "execution_count": null,
   "id": "c06dd994-3535-4a40-b767-47a605875115",
   "metadata": {},
   "outputs": [],
   "source": [
    "import pandas as pd\n",
    "import numpy as np\n",
    "import seaborn as sns\n",
    "import matplotlib.pyplot as plt\n",
    "import os\n",
    "import gc\n",
    "\n",
    "from sklearn.preprocessing import OneHotEncoder, LabelEncoder\n",
    "from sklearn.model_selection import train_test_split\n",
    "from sklearn.tree import DecisionTreeClassifier, plot_tree\n",
    "from sklearn.metrics import accuracy_score, confusion_matrix\n",
    "\n",
    "from sklearn.ensemble import RandomForestClassifier\n",
    "from sklearn.linear_model import LassoCV, LinearRegression, LogisticRegression"
   ]
  },
  {
   "cell_type": "code",
   "execution_count": null,
   "id": "bf826ab8-29a3-4780-9825-1fe1988fcdbd",
   "metadata": {},
   "outputs": [],
   "source": [
    "%matplotlib inline"
   ]
  },
  {
   "cell_type": "code",
   "execution_count": null,
   "id": "fe14f6b0-c86f-4dde-ae59-a212e1c03887",
   "metadata": {},
   "outputs": [],
   "source": [
    "path = r'C:\\Users\\nukis\\Documents\\Projects\\08. Road Safety'"
   ]
  },
  {
   "cell_type": "code",
   "execution_count": null,
   "id": "ee389c9c-1992-4622-a4bf-586b2c4cace0",
   "metadata": {},
   "outputs": [],
   "source": [
    "df = pd.read_pickle(os.path.join(path, '01. Data', 'Prepared data', 'road_safety_cleaned.pkl'))"
   ]
  },
  {
   "cell_type": "code",
   "execution_count": null,
   "id": "61df774f-e50a-4c8f-ba5e-02fa5d779cfd",
   "metadata": {
    "tags": []
   },
   "outputs": [],
   "source": [
    "# Command to maximize view of rows and columns\n",
    "\n",
    "pd.options.display.max_rows = None\n",
    "pd.options.display.max_columns = len(df.columns)"
   ]
  },
  {
   "cell_type": "code",
   "execution_count": null,
   "id": "d1f30367-6280-4506-9d22-9299e5603d3e",
   "metadata": {},
   "outputs": [],
   "source": [
    "df.shape"
   ]
  },
  {
   "cell_type": "code",
   "execution_count": null,
   "id": "1555fd03-8fb4-4299-a425-8767974be2f9",
   "metadata": {
    "tags": []
   },
   "outputs": [],
   "source": [
    "df.info()"
   ]
  },
  {
   "cell_type": "markdown",
   "id": "50295349-efa5-4d3e-9c95-8abe79ab7232",
   "metadata": {},
   "source": [
    "#### Pre-Processing"
   ]
  },
  {
   "cell_type": "code",
   "execution_count": null,
   "id": "52b2e7ca-dfca-4df3-a666-be56e994e0b1",
   "metadata": {
    "tags": []
   },
   "outputs": [],
   "source": [
    "df.drop(columns=['Suburb', 'LGA Name', 'Postcode', 'Total Units', 'Total Cas', 'Total Fats', 'Total SI', 'Total MI', 'Lat', 'Lon'], inplace = True)\n",
    "#df['Postcode'] = df['Postcode'].astype('int64')"
   ]
  },
  {
   "cell_type": "markdown",
   "id": "956e62ff-d8c1-49e1-970e-954122f0fe62",
   "metadata": {},
   "source": [
    "### 2. Accident Severity Analysis"
   ]
  },
  {
   "cell_type": "code",
   "execution_count": null,
   "id": "34e64457-9cf3-4aec-a323-08901c58845d",
   "metadata": {
    "tags": []
   },
   "outputs": [],
   "source": [
    "labels = ['Property Damage Only', 'Minor Injury', 'Serious Injury', 'Fatality']\n",
    "colors = ['#FEF9A7', '#FAC213', '#F77E21', '#D61C4E']\n",
    "\n",
    "fig, ax = plt.subplots()\n",
    "myexplode = (0.05, 0.05, 0.05, 0.2)\n",
    "\n",
    "ax.pie(df['Target'].value_counts(), explode = myexplode, labels = labels,autopct='%1.1f%%', \n",
    "        wedgeprops={'linewidth': 3.0, 'edgecolor': 'white'}, startangle = 90, colors = colors)\n",
    "\n",
    "ax.set_title('Accident Severity', fontsize = 14)\n",
    "plt.show()"
   ]
  },
  {
   "cell_type": "code",
   "execution_count": null,
   "id": "2a0a2757-5d2a-4d08-aa11-ff747f183e0c",
   "metadata": {},
   "outputs": [],
   "source": [
    "# Function for drawing countplot\n",
    "\n",
    "def countplot(x):\n",
    "    plt.figure(figsize = (4, 6))\n",
    "    sns.countplot(data = df, x = x, palette = 'mako_r', \n",
    "                  order = df[x].value_counts().index)"
   ]
  },
  {
   "cell_type": "code",
   "execution_count": null,
   "id": "cdb635ef-4501-4f29-aa89-ed748640c51c",
   "metadata": {
    "tags": []
   },
   "outputs": [],
   "source": [
    "countplot('Target')"
   ]
  },
  {
   "cell_type": "markdown",
   "id": "63d23989-8ea0-4a8b-8fd0-4423f2b3c702",
   "metadata": {},
   "source": [
    "#### As we can see, there are 4 classes of severity. We can see that the distribution of the classes is greatly disbalanced. 'Property Damage Only (PDO)' class is in majority while 'Fatality (Fatal)' class is the minority here.\n",
    "#### Due to imbalance dataset, binary classification will be performed. For this purpose, classes of Mi, Si and Fatal will be grouped together as Injury/Death."
   ]
  },
  {
   "cell_type": "code",
   "execution_count": null,
   "id": "6b287c9b-bdc7-4b4b-bc96-f0928a46170a",
   "metadata": {},
   "outputs": [],
   "source": [
    "# Grouping Minor injury, Serious injury abd fatality into one class\n",
    "\n",
    "df.loc[df['Target'] == 'Mi', 'Target'] = 'Injury/Death'\n",
    "df.loc[df['Target'] == 'Si', 'Target'] = 'Injury/Death'\n",
    "df.loc[df['Target'] == 'Fatal', 'Target'] = 'Injury/Death'\n",
    "df.loc[df['Target'] == 'Pdo', 'Target'] = 'PDO'"
   ]
  },
  {
   "cell_type": "code",
   "execution_count": null,
   "id": "306ada78-9cde-4f53-bde0-1d69205c5820",
   "metadata": {
    "tags": []
   },
   "outputs": [],
   "source": [
    "labels = ['PDO', 'Injury/Death']\n",
    "colors = ['#FEF9A7', '#D61C4E']\n",
    "\n",
    "fig, ax = plt.subplots()\n",
    "myexplode = (0.05, 0.05)\n",
    "\n",
    "ax.pie(df['Target'].value_counts(), explode = myexplode, labels = labels,autopct='%1.1f%%', \n",
    "        wedgeprops={'linewidth': 3.0, 'edgecolor': 'white'}, startangle = 90, colors = colors)\n",
    "\n",
    "ax.set_title('Accident Severity', fontsize = 14)\n",
    "plt.show()"
   ]
  },
  {
   "cell_type": "code",
   "execution_count": null,
   "id": "c70f384e-7c86-4350-8527-17d8650424e2",
   "metadata": {
    "tags": []
   },
   "outputs": [],
   "source": [
    "countplot('Target')"
   ]
  },
  {
   "cell_type": "code",
   "execution_count": null,
   "id": "8eccfbc0-f0a9-41bc-bf7e-ea8810d1f3b2",
   "metadata": {
    "tags": []
   },
   "outputs": [],
   "source": [
    "df.describe()"
   ]
  },
  {
   "cell_type": "code",
   "execution_count": null,
   "id": "f65111d5-d39d-4986-ad4b-a9959f299cc8",
   "metadata": {
    "tags": []
   },
   "outputs": [],
   "source": [
    "# There is outliers in Vehicle Year column: 1900 will be removed\n",
    "\n",
    "df = df.loc[df['Veh Year'] >= 1940]"
   ]
  },
  {
   "cell_type": "markdown",
   "id": "3130d23b-64a1-4eb9-8aea-ae1a44c0b8fa",
   "metadata": {},
   "source": [
    "### 3. Label-Encoding for Binary Features"
   ]
  },
  {
   "cell_type": "code",
   "execution_count": null,
   "id": "6479a9fe-bcad-4f24-b3d3-7ee7477596ce",
   "metadata": {},
   "outputs": [],
   "source": [
    "labelencoder = LabelEncoder()"
   ]
  },
  {
   "cell_type": "code",
   "execution_count": null,
   "id": "ca747782-d131-4054-aa93-239f848a3dd0",
   "metadata": {},
   "outputs": [],
   "source": [
    "df['Target'] = labelencoder.fit_transform(df['Target']) # Target column\n",
    "df['Target'] = df['Target'].astype('int64')\n",
    "\n",
    "dict(zip(labelencoder.inverse_transform([0,1]),[0,1]))"
   ]
  },
  {
   "cell_type": "code",
   "execution_count": null,
   "id": "e8d2bc9d-f12c-45a8-8f9b-bd3c999a66d2",
   "metadata": {},
   "outputs": [],
   "source": [
    "df['DayNight'] = labelencoder.fit_transform(df['DayNight']) \n",
    "df['DayNight'] = df['DayNight'].astype('int64')\n",
    "\n",
    "dict(zip(labelencoder.inverse_transform([0,1]),[0,1]))"
   ]
  },
  {
   "cell_type": "code",
   "execution_count": null,
   "id": "6125f127-3eac-4e0e-b893-aa42ffb9eb63",
   "metadata": {},
   "outputs": [],
   "source": [
    "df['Road Surface'] = labelencoder.fit_transform(df['Road Surface']) \n",
    "df['Road Surface'] = df['Road Surface'].astype('int64')\n",
    "\n",
    "dict(zip(labelencoder.inverse_transform([0,1]),[0,1]))"
   ]
  },
  {
   "cell_type": "code",
   "execution_count": null,
   "id": "b5460651-003f-4c76-b265-a81c38a084d1",
   "metadata": {},
   "outputs": [],
   "source": [
    "df['Moisture Cond'] = labelencoder.fit_transform(df['Moisture Cond']) \n",
    "df['Moisture Cond'] = df['Moisture Cond'].astype('int64')\n",
    "\n",
    "dict(zip(labelencoder.inverse_transform([0,1]),[0,1]))"
   ]
  },
  {
   "cell_type": "code",
   "execution_count": null,
   "id": "7c9bff54-4829-4412-9de5-21e0ec7bd407",
   "metadata": {},
   "outputs": [],
   "source": [
    "df['Weather Cond'] = labelencoder.fit_transform(df['Weather Cond']) \n",
    "df['Weather Cond'] = df['Weather Cond'].astype('int64')\n",
    "\n",
    "dict(zip(labelencoder.inverse_transform([0,1]),[0,1]))"
   ]
  },
  {
   "cell_type": "code",
   "execution_count": null,
   "id": "c64b59cc-5c31-4ae5-9501-68b0b035f1a2",
   "metadata": {},
   "outputs": [],
   "source": [
    "df['Sex'] = labelencoder.fit_transform(df['Sex']) \n",
    "df['Sex'] = df['Sex'].astype('int64')\n",
    "\n",
    "dict(zip(labelencoder.inverse_transform([0,1]),[0,1]))"
   ]
  },
  {
   "cell_type": "code",
   "execution_count": null,
   "id": "22e0264b-0ab5-4a09-a576-5c287d5278f2",
   "metadata": {},
   "outputs": [],
   "source": [
    "df['Unit Involved'] = labelencoder.fit_transform(df['Unit Involved']) \n",
    "df['Unit Involved'] = df['Unit Involved'].astype('int64')\n",
    "\n",
    "dict(zip(labelencoder.inverse_transform([0,1]),[0,1]))"
   ]
  },
  {
   "cell_type": "code",
   "execution_count": null,
   "id": "508110fa-fd6e-438c-946a-41737589aef6",
   "metadata": {},
   "outputs": [],
   "source": [
    "df['Day Group'] = labelencoder.fit_transform(df['Day Group']) \n",
    "df['Day Group'] = df['Day Group'].astype('int64')\n",
    "\n",
    "dict(zip(labelencoder.inverse_transform([0,1]),[0,1]))"
   ]
  },
  {
   "cell_type": "code",
   "execution_count": null,
   "id": "00197a69-e42d-4965-a4e4-5e8a567e7793",
   "metadata": {},
   "outputs": [],
   "source": [
    "df.head()"
   ]
  },
  {
   "cell_type": "code",
   "execution_count": null,
   "id": "6a86c10b-43c6-47dc-80a0-579cc8d4becd",
   "metadata": {
    "tags": []
   },
   "outputs": [],
   "source": [
    "df.info()"
   ]
  },
  {
   "cell_type": "markdown",
   "id": "478d8c82-ed58-4a47-a394-5cadc7f07cac",
   "metadata": {},
   "source": [
    "### 4. One-Hot-Encoding for categorical data\n",
    "#### As many of the features are categorical, One-Hot-Encoding is performed."
   ]
  },
  {
   "cell_type": "code",
   "execution_count": null,
   "id": "fbaae326-67e2-4e48-897f-1993ac58c1d9",
   "metadata": {},
   "outputs": [],
   "source": [
    "# Creating categorical features list\n",
    "\n",
    "catvar = df.select_dtypes(include = ['object']).columns\n",
    "catvar"
   ]
  },
  {
   "cell_type": "code",
   "execution_count": null,
   "id": "853e93e8-d2dd-4c7b-80a2-e3928c369810",
   "metadata": {
    "tags": []
   },
   "outputs": [],
   "source": [
    "for i in df:\n",
    "    if i in catvar:\n",
    "        print(df[i].unique())"
   ]
  },
  {
   "cell_type": "code",
   "execution_count": null,
   "id": "1695a1d5-575b-4e4e-a23c-8c9b458cc4a5",
   "metadata": {},
   "outputs": [],
   "source": [
    "# Creating one hot encoder object \n",
    "\n",
    "onehotencoder = OneHotEncoder(handle_unknown = 'ignore') # Whether to raise an error"
   ]
  },
  {
   "cell_type": "code",
   "execution_count": null,
   "id": "de1b9b25-7162-44f7-bb33-ee163db8a237",
   "metadata": {
    "tags": []
   },
   "outputs": [],
   "source": [
    "# Fit and transform the data using the .fit_transform() method\n",
    "# return the array version of the transformed data using the .toarray() method\n",
    "\n",
    "df_enc = onehotencoder.fit_transform(df[catvar]).toarray()\n",
    "df_enc"
   ]
  },
  {
   "cell_type": "code",
   "execution_count": null,
   "id": "dc68fec9-a815-45b7-957c-8f1ee91a9364",
   "metadata": {
    "tags": []
   },
   "outputs": [],
   "source": [
    "feature_array = onehotencoder.get_feature_names_out()\n",
    "feature_array"
   ]
  },
  {
   "cell_type": "code",
   "execution_count": null,
   "id": "c0cf04fa-4b09-446b-89fc-be94f3664711",
   "metadata": {
    "tags": []
   },
   "outputs": [],
   "source": [
    "# Convert to dataframe\n",
    "\n",
    "df_enc = pd.DataFrame(df_enc, columns = feature_array)\n",
    "df_enc.head()"
   ]
  },
  {
   "cell_type": "code",
   "execution_count": null,
   "id": "c93cbe86-9e51-401a-8f4d-a7b15f96b8c0",
   "metadata": {
    "tags": []
   },
   "outputs": [],
   "source": [
    "df_enc.shape"
   ]
  },
  {
   "cell_type": "code",
   "execution_count": null,
   "id": "53d84c6d-567a-418c-82ba-9f4d58b1a081",
   "metadata": {
    "tags": []
   },
   "outputs": [],
   "source": [
    "# Concatenate with the dataframe\n",
    "\n",
    "df_num = df.drop(columns = catvar, axis = 1).reset_index()\n",
    "df_num = df_num.drop(columns = 'index', axis = 1)\n",
    "df_num.shape"
   ]
  },
  {
   "cell_type": "code",
   "execution_count": null,
   "id": "aa16a299-9784-4b9f-a998-92e897de5063",
   "metadata": {},
   "outputs": [],
   "source": [
    "df_new = pd.concat([df_num, df_enc], axis=1)\n",
    "df_new.shape"
   ]
  },
  {
   "cell_type": "code",
   "execution_count": null,
   "id": "f30110eb-3cb4-4a71-852e-0c52377c0a18",
   "metadata": {
    "tags": []
   },
   "outputs": [],
   "source": [
    "df_new.head()"
   ]
  },
  {
   "cell_type": "markdown",
   "id": "0be723e9-2721-4bc7-912e-5f262cb5ef89",
   "metadata": {
    "tags": []
   },
   "source": [
    "### 5. Preparing and Splitting Dataset"
   ]
  },
  {
   "cell_type": "code",
   "execution_count": null,
   "id": "15958a3e-51ee-4690-9817-06e12312ec0e",
   "metadata": {
    "tags": []
   },
   "outputs": [],
   "source": [
    "X = df_new.drop(columns = 'Target') # Features\n",
    "y = df_new['Target'] # Dependent variable (Target)"
   ]
  },
  {
   "cell_type": "markdown",
   "id": "4118a0f7-44cb-4279-8d82-0a146110f3b9",
   "metadata": {},
   "source": [
    "### 6. Features Selection Embedded Method"
   ]
  },
  {
   "cell_type": "code",
   "execution_count": null,
   "id": "b1d470b3-436a-49e0-bef5-a32f94e0e9c3",
   "metadata": {},
   "outputs": [],
   "source": [
    "reg = LassoCV()\n",
    "reg.fit(X, y)\n",
    "\n",
    "print(\"Best alpha using built-in LassoCV: %f\" % reg.alpha_)\n",
    "print(\"Best score using built-in LassoCV: %f\" %reg.score(X,y))\n",
    "coef = pd.Series(reg.coef_, index = X.columns)"
   ]
  },
  {
   "cell_type": "code",
   "execution_count": null,
   "id": "88cf275c-e032-4992-b595-407c4cc9dca5",
   "metadata": {},
   "outputs": [],
   "source": [
    "print(\"Lasso picked \" + str(sum(coef != 0)) + \" variables and eliminated the other \" +  str(sum(coef == 0)) + \" variables\")"
   ]
  },
  {
   "cell_type": "code",
   "execution_count": null,
   "id": "1444790f-b475-4ad1-ac6d-99d9c9355dfc",
   "metadata": {
    "tags": []
   },
   "outputs": [],
   "source": [
    "imp_coef = coef.sort_values()\n",
    "imp_coef"
   ]
  },
  {
   "cell_type": "code",
   "execution_count": null,
   "id": "f75f81c1-156e-4bfb-bc13-056453511c4a",
   "metadata": {
    "tags": []
   },
   "outputs": [],
   "source": [
    "selected_features = imp_coef.loc[(imp_coef != 0) | (imp_coef != -0)]\n",
    "selected_features "
   ]
  },
  {
   "cell_type": "code",
   "execution_count": null,
   "id": "ff25a2e0-d143-4641-9c63-329d62e9fe53",
   "metadata": {
    "tags": []
   },
   "outputs": [],
   "source": [
    "plt.rcParams['figure.figsize'] = (20, 10)\n",
    "selected_features.plot(kind = 'barh')\n",
    "plt.title('Feature importance using Lasso Model')"
   ]
  },
  {
   "cell_type": "markdown",
   "id": "5cd4be5f-44ac-40bd-bbbc-7b1901f80f64",
   "metadata": {},
   "source": [
    "### 7. Building Models"
   ]
  },
  {
   "cell_type": "code",
   "execution_count": null,
   "id": "dc4414f3-8542-49c2-a000-fb7d272e3b5f",
   "metadata": {
    "tags": []
   },
   "outputs": [],
   "source": [
    "# Divide into training-set and test-set: 70% 30% ratio\n",
    "\n",
    "X_train, X_test, y_train, y_test = train_test_split(X, y, test_size = 0.3, stratify=y)"
   ]
  },
  {
   "cell_type": "code",
   "execution_count": null,
   "id": "ea4d6743-c111-48ce-bde3-30eddf1ce0fe",
   "metadata": {
    "tags": []
   },
   "outputs": [],
   "source": [
    "print(X_train.shape, X_test.shape, y_train.shape, y_test.shape)"
   ]
  },
  {
   "cell_type": "markdown",
   "id": "cb3b248d-cdc2-43fe-84bb-563472d12702",
   "metadata": {},
   "source": [
    "### A. Logistic Regression"
   ]
  },
  {
   "cell_type": "code",
   "execution_count": null,
   "id": "e34e9490-3866-4452-9747-436350af7e11",
   "metadata": {},
   "outputs": [],
   "source": [
    "lgr = LogisticRegression()"
   ]
  },
  {
   "cell_type": "code",
   "execution_count": null,
   "id": "f4937624-6800-4add-9c04-753df3b18bfd",
   "metadata": {
    "tags": []
   },
   "outputs": [],
   "source": [
    "lgr.fit(X_train, y_train)"
   ]
  },
  {
   "cell_type": "code",
   "execution_count": null,
   "id": "fa957a11-5f74-4f3f-907b-b458023e2532",
   "metadata": {},
   "outputs": [],
   "source": [
    "y_pred_lgr = lgr.predict(X_test)"
   ]
  },
  {
   "cell_type": "code",
   "execution_count": null,
   "id": "0c4586cd-409b-417b-87da-b6316402dc47",
   "metadata": {},
   "outputs": [],
   "source": [
    "print(accuracy_score(y_test, y_pred_lgr))"
   ]
  },
  {
   "cell_type": "code",
   "execution_count": null,
   "id": "ef10236b-d12c-4511-917d-97eb47d1e3be",
   "metadata": {},
   "outputs": [],
   "source": [
    "cf_matrix_lgr = confusion_matrix(y_test, y_pred_lgr)"
   ]
  },
  {
   "cell_type": "code",
   "execution_count": null,
   "id": "8a9923bc-4712-4cac-b4fa-b5ea16c07145",
   "metadata": {},
   "outputs": [],
   "source": [
    "TN, FP, FN, TP = cf_matrix_lgr.ravel()\n",
    "\n",
    "print('True Positive(TP)  = ', TP)\n",
    "print('False Positive(FP) = ', FP)\n",
    "print('True Negative(TN)  = ', TN)\n",
    "print('False Negative(FN) = ', FN)"
   ]
  },
  {
   "cell_type": "code",
   "execution_count": null,
   "id": "af3d218d-0090-479c-b84a-7791b9ad3c76",
   "metadata": {},
   "outputs": [],
   "source": [
    "group_names = ['True Neg', 'False Pos', 'False Neg', 'True Pos']\n",
    "\n",
    "group_counts = ['{0:0.0f}'.format(value) for value in cf_matrix_lgr.flatten()]\n",
    "\n",
    "group_percentages = ['{0:.2%}'.format(value) for value in cf_matrix_lgr.flatten()/np.sum(cf_matrix_lgr)]\n",
    "\n",
    "labels = [f'{v1}\\n{v2}\\n{v3}' for v1, v2, v3 in zip(group_names,group_counts,group_percentages)]\n",
    "\n",
    "labels = np.asarray(labels).reshape(2,2)\n",
    "\n",
    "plt.figure(figsize=(8,4))\n",
    "sns.heatmap(cf_matrix_lgr, annot=labels, fmt='', cmap='Blues')"
   ]
  },
  {
   "cell_type": "code",
   "execution_count": null,
   "id": "a648e83e-d384-43f6-8aed-73cb1c2f8df5",
   "metadata": {
    "tags": []
   },
   "outputs": [],
   "source": [
    "logres_result = pd.DataFrame(lgr.coef_, columns=X_test.columns, index=['Coef']).T.sort_values(by='Coef', key=abs)"
   ]
  },
  {
   "cell_type": "code",
   "execution_count": null,
   "id": "c3a85153-bf0c-4b4a-b142-3e1a762fe8f7",
   "metadata": {
    "tags": []
   },
   "outputs": [],
   "source": [
    "logres_nonzero = logres_result.loc[(logres_result['Coef'] != 0) | (logres_result['Coef'] != -0)]\n",
    "logres_nonzero.sort_values(by='Coef', ascending=False, key=abs)"
   ]
  },
  {
   "cell_type": "code",
   "execution_count": null,
   "id": "45df4a31-b7ab-4e99-b060-7c1f8ff15ed6",
   "metadata": {
    "tags": []
   },
   "outputs": [],
   "source": [
    "plt.rcParams['figure.figsize'] = (20, 40)\n",
    "logres_nonzero.plot(kind = 'barh')\n",
    "plt.title('Feature importance using Logistic Regression')"
   ]
  },
  {
   "cell_type": "markdown",
   "id": "1a93f910-dc03-4a58-9a51-e918b145957d",
   "metadata": {},
   "source": [
    "### B. Decision Tree Classifier Model - Entropy\n",
    "#### A Decision Tree is a non-parametric supervised learning method used for classification and regression. The goal is to create a model that predicts the value of a target variable by learning simple decision rules (if-else) inferred from the data features."
   ]
  },
  {
   "cell_type": "code",
   "execution_count": null,
   "id": "863e2c52-f661-46f2-86dd-a70c5821eecc",
   "metadata": {},
   "outputs": [],
   "source": [
    "# Create a Decision Tree object.\n",
    "\n",
    "dtc = DecisionTreeClassifier(criterion = 'entropy')"
   ]
  },
  {
   "cell_type": "code",
   "execution_count": null,
   "id": "d36b7093-5821-4d01-ae65-4d468668fb56",
   "metadata": {
    "tags": []
   },
   "outputs": [],
   "source": [
    "# Fit the DTC object onto the training set.\n",
    "\n",
    "dtc.fit(X_train, y_train)"
   ]
  },
  {
   "cell_type": "code",
   "execution_count": null,
   "id": "9052780c-ad6c-41d9-af78-9449af178944",
   "metadata": {},
   "outputs": [],
   "source": [
    "y_pred_dtc = dtc.predict(X_test)"
   ]
  },
  {
   "cell_type": "code",
   "execution_count": null,
   "id": "2c41c4a6-0494-417d-869d-45e54ce772d3",
   "metadata": {},
   "outputs": [],
   "source": [
    "print('Test Accuracy:', accuracy_score(y_test, y_pred_dtc))"
   ]
  },
  {
   "cell_type": "code",
   "execution_count": null,
   "id": "75effb23-910b-4f27-8536-1898be4a9e2f",
   "metadata": {},
   "outputs": [],
   "source": [
    "cf_matrix_dtc = confusion_matrix(y_test, y_pred_dtc)"
   ]
  },
  {
   "cell_type": "code",
   "execution_count": null,
   "id": "ee65873b-0e47-4542-ae36-42cd3624b772",
   "metadata": {},
   "outputs": [],
   "source": [
    "TN, FP, FN, TP = cf_matrix_dtc.ravel()\n",
    "\n",
    "print('True Positive(TP)  = ', TP)\n",
    "print('False Positive(FP) = ', FP)\n",
    "print('True Negative(TN)  = ', TN)\n",
    "print('False Negative(FN) = ', FN)"
   ]
  },
  {
   "cell_type": "code",
   "execution_count": null,
   "id": "afd7e319-3308-4847-955b-a89f43b846bc",
   "metadata": {
    "tags": []
   },
   "outputs": [],
   "source": [
    "group_names = ['True Neg', 'False Pos', 'False Neg', 'True Pos']\n",
    "\n",
    "group_counts = ['{0:0.0f}'.format(value) for value in cf_matrix_dtc.flatten()]\n",
    "\n",
    "group_percentages = ['{0:.2%}'.format(value) for value in cf_matrix_dtc.flatten()/np.sum(cf_matrix_dtc)]\n",
    "\n",
    "labels = [f'{v1}\\n{v2}\\n{v3}' for v1, v2, v3 in zip(group_names,group_counts,group_percentages)]\n",
    "\n",
    "labels = np.asarray(labels).reshape(2,2)\n",
    "\n",
    "plt.figure(figsize=(8,4))\n",
    "sns.heatmap(cf_matrix_dtc, annot=labels, fmt='', cmap='Blues')"
   ]
  },
  {
   "cell_type": "code",
   "execution_count": null,
   "id": "3298a06e-397f-410a-b0a3-c385b252b509",
   "metadata": {},
   "outputs": [],
   "source": [
    "pd.Series(y_pred_dtc).value_counts()"
   ]
  },
  {
   "cell_type": "code",
   "execution_count": null,
   "id": "828bd486-3c43-43c2-842a-8234cf5b1c35",
   "metadata": {},
   "outputs": [],
   "source": [
    "pd.Series(y_test).value_counts()"
   ]
  },
  {
   "cell_type": "code",
   "execution_count": null,
   "id": "28ab8ed2-1597-4712-9073-556586d25c93",
   "metadata": {
    "tags": []
   },
   "outputs": [],
   "source": [
    "# Extracting the importances by sklearn \n",
    "importances_dtc = dtc.feature_importances_\n",
    "\n",
    "# Creating a dataframe with the feature importance by sklearn\n",
    "feature_importance_dtc = {}\n",
    "for i, feature in enumerate(features):\n",
    "    feature_importance_dtc[feature] = round(importances_dtc[i], 3)\n",
    "\n",
    "print(f\"Feature importance by sklearn: {feature_importance_dtc}\")"
   ]
  },
  {
   "cell_type": "code",
   "execution_count": null,
   "id": "1c6aa0b4-9168-499f-8469-85dce84b4a75",
   "metadata": {
    "tags": []
   },
   "outputs": [],
   "source": [
    "dtc_result = pd.DataFrame({'Feature':feature_importance_dtc.keys(),'Importance':feature_importance_dtc.values()})\n",
    "dtc_result.set_index('Feature', inplace = True)\n",
    "dtc_result.sort_values(by='Importance', ascending=False, key=abs)"
   ]
  },
  {
   "cell_type": "code",
   "execution_count": null,
   "id": "d1ea1899-9175-4f9a-a1e6-7530b4bf7e82",
   "metadata": {
    "tags": []
   },
   "outputs": [],
   "source": [
    "dtc_nonzero = dtc_result.loc[(dtc_result['Importance'] != 0) | (dtc_result['Importance'] != -0)]\n",
    "dtc_nonzero = dtc_nonzero.sort_values(by='Importance', key=abs)\n",
    "dtc_nonzero"
   ]
  },
  {
   "cell_type": "code",
   "execution_count": null,
   "id": "74030282-97cd-48f3-ad09-e436aeac24a1",
   "metadata": {
    "tags": []
   },
   "outputs": [],
   "source": [
    "plt.rcParams['figure.figsize'] = (10, 20)\n",
    "dtc_nonzero.plot(kind = 'barh')\n",
    "plt.title('Feature importance using Decision Tree')"
   ]
  },
  {
   "cell_type": "markdown",
   "id": "444ed7e7-97c9-4947-9840-bb7b903452f5",
   "metadata": {},
   "source": [
    "### C. Random Forest"
   ]
  },
  {
   "cell_type": "code",
   "execution_count": null,
   "id": "c922f203-6b36-4003-820c-122c20b4ecaf",
   "metadata": {
    "tags": []
   },
   "outputs": [],
   "source": [
    "# Create a RF object.\n",
    "\n",
    "rfc = RandomForestClassifier()"
   ]
  },
  {
   "cell_type": "code",
   "execution_count": null,
   "id": "d1ea805c-ef9d-4555-872f-07de70ad24ba",
   "metadata": {},
   "outputs": [],
   "source": [
    "# Fit the DTC object onto the training set.\n",
    "\n",
    "rfc.fit(X_train, y_train)"
   ]
  },
  {
   "cell_type": "code",
   "execution_count": null,
   "id": "1eba0d4a-e117-4a2e-94f9-7da38485a46e",
   "metadata": {},
   "outputs": [],
   "source": [
    "y_pred_rfc = rfc.predict(X_test)"
   ]
  },
  {
   "cell_type": "code",
   "execution_count": null,
   "id": "593086b6-7528-4504-a6cc-97899c58cb7a",
   "metadata": {},
   "outputs": [],
   "source": [
    "print('Train Accuracy:', accuracy_score(y_train, rfc.predict(X_train)))"
   ]
  },
  {
   "cell_type": "code",
   "execution_count": null,
   "id": "25c96e5d-eb70-4f69-9a35-39d87f72a64b",
   "metadata": {},
   "outputs": [],
   "source": [
    "print('Test Accuracy:', '{:.3f}'.format(accuracy_score(y_test, y_pred_rfc)))"
   ]
  },
  {
   "cell_type": "code",
   "execution_count": null,
   "id": "606054a3-e328-47b7-8924-f877b6bc3f9c",
   "metadata": {},
   "outputs": [],
   "source": [
    "cf_matrix_rfc = confusion_matrix(y_test, y_pred_rfc)"
   ]
  },
  {
   "cell_type": "code",
   "execution_count": null,
   "id": "32d79ec3-12db-4699-97b8-0a8b68690a6a",
   "metadata": {},
   "outputs": [],
   "source": [
    "TN, FP, FN, TP = cf_matrix_rfc.ravel()\n",
    "\n",
    "print('True Positive(TP)  = ', TP)\n",
    "print('False Positive(FP) = ', FP)\n",
    "print('True Negative(TN)  = ', TN)\n",
    "print('False Negative(FN) = ', FN)"
   ]
  },
  {
   "cell_type": "code",
   "execution_count": null,
   "id": "56d260cc-304d-416c-8495-bf67738850a3",
   "metadata": {
    "tags": []
   },
   "outputs": [],
   "source": [
    "group_names = ['True Neg', 'False Pos', 'False Neg', 'True Pos']\n",
    "\n",
    "group_counts = ['{0:0.0f}'.format(value) for value in cf_matrix_rfc.flatten()]\n",
    "\n",
    "group_percentages = ['{0:.2%}'.format(value) for value in cf_matrix_rfc.flatten()/np.sum(cf_matrix_rfc)]\n",
    "\n",
    "labels = [f'{v1}\\n{v2}\\n{v3}' for v1, v2, v3 in zip(group_names,group_counts,group_percentages)]\n",
    "\n",
    "labels = np.asarray(labels).reshape(2,2)\n",
    "\n",
    "plt.figure(figsize=(8,4))\n",
    "conf_mat = sns.heatmap(cf_matrix_rfc, annot=labels, fmt='', cmap='crest')"
   ]
  },
  {
   "cell_type": "code",
   "execution_count": null,
   "id": "44b12fee-2292-4fb7-a695-41407785595d",
   "metadata": {
    "tags": []
   },
   "outputs": [],
   "source": [
    "# Extracting the importances by sklearn \n",
    "importances_rfc = rfc.feature_importances_\n",
    "\n",
    "# Creating a dataframe with the feature importance by sklearn\n",
    "feature_importance_rfc = {}\n",
    "for i, feature in enumerate(features):\n",
    "    feature_importance_rfc[feature] = round(importances_rfc[i], 3)\n",
    "\n",
    "print(f\"Feature importance by sklearn: {feature_importance_rfc}\")"
   ]
  },
  {
   "cell_type": "code",
   "execution_count": null,
   "id": "da26c64d-446f-404d-8926-7f6cf94da649",
   "metadata": {
    "tags": []
   },
   "outputs": [],
   "source": [
    "rfc_result = pd.DataFrame({'Feature':feature_importance_rfc.keys(),'Importance':feature_importance_rfc.values()})\n",
    "rfc_result.set_index('Feature', inplace = True)\n",
    "rfc_result.sort_values(by='Importance', ascending=False, key=abs)"
   ]
  },
  {
   "cell_type": "code",
   "execution_count": null,
   "id": "558c2f81-08a5-4301-b0e5-f087767f837d",
   "metadata": {
    "tags": []
   },
   "outputs": [],
   "source": [
    "rfc_nonzero = rfc_result.loc[(rfc_result['Importance'] != 0) | (rfc_result['Importance'] != -0)]\n",
    "rfc_nonzero = rfc_nonzero.sort_values(by='Importance', key=abs, ascending=False)\n",
    "rfc_nonzeros = rfc_nonzero.head(20)\n",
    "rfc_nonzeros "
   ]
  },
  {
   "cell_type": "code",
   "execution_count": null,
   "id": "2dc3d004-7163-4a5c-8044-06b88cea80cf",
   "metadata": {
    "tags": []
   },
   "outputs": [],
   "source": [
    "values = rfc_nonzeros['Importance']\n",
    "clrs = ['green' if (x < max(values)) else 'red' for x in values ]\n",
    "plt.rcParams['figure.figsize'] = (18, 8)\n",
    "\n",
    "feat_importance = sns.barplot(y=rfc_nonzeros.index, x=values, palette=clrs)\n",
    "plt.title('Top 20 Feature Importance Using Random Forest')\n",
    "plt.show()"
   ]
  },
  {
   "cell_type": "code",
   "execution_count": null,
   "id": "221feec6-ad10-4120-accf-58ded6d485ac",
   "metadata": {},
   "outputs": [],
   "source": [
    "conf_mat.figure.savefig(os.path.join(path, '04. Visualizations', 'conf_mat.png'))"
   ]
  },
  {
   "cell_type": "code",
   "execution_count": null,
   "id": "aef261ab-b15f-4786-b229-e1068252d4fb",
   "metadata": {},
   "outputs": [],
   "source": [
    "feat_importance.figure.savefig(os.path.join(path, '04. Visualizations', 'feature_inportance.png'))"
   ]
  },
  {
   "cell_type": "code",
   "execution_count": null,
   "id": "7e9efc35-6007-498a-8029-12e72fe6b48a",
   "metadata": {},
   "outputs": [],
   "source": [
    "gc.collect()"
   ]
  }
 ],
 "metadata": {
  "kernelspec": {
   "display_name": "Python 3 (ipykernel)",
   "language": "python",
   "name": "python3"
  },
  "language_info": {
   "codemirror_mode": {
    "name": "ipython",
    "version": 3
   },
   "file_extension": ".py",
   "mimetype": "text/x-python",
   "name": "python",
   "nbconvert_exporter": "python",
   "pygments_lexer": "ipython3",
   "version": "3.9.12"
  }
 },
 "nbformat": 4,
 "nbformat_minor": 5
}
