{
 "cells": [
  {
   "cell_type": "code",
   "execution_count": null,
   "id": "0abba909-d60f-49e0-bca4-02446de3ab04",
   "metadata": {},
   "outputs": [],
   "source": [
    "import pandas as pd\n",
    "import numpy as np\n",
    "import seaborn as sns\n",
    "import matplotlib.pyplot as plt\n",
    "import matplotlib\n",
    "import os\n",
    "import gc\n",
    "import json\n",
    "\n",
    "import folium\n",
    "from folium.plugins import MarkerCluster, HeatMap, HeatMapWithTime\n",
    "from shapely.geometry import Point, shape\n",
    "import geopandas as gpd\n",
    "from pyproj import CRS\n",
    "\n",
    "from math import cos, asin, sqrt, pi"
   ]
  },
  {
   "cell_type": "code",
   "execution_count": null,
   "id": "b709ca0c-2c34-46cc-9793-d5641a8a6c6d",
   "metadata": {},
   "outputs": [],
   "source": [
    "path = r'C:\\Users\\nukis\\Documents\\Projects\\08. Road Safety'"
   ]
  },
  {
   "cell_type": "code",
   "execution_count": null,
   "id": "28b2dab1-bc63-434c-83a0-03a044c92a93",
   "metadata": {},
   "outputs": [],
   "source": [
    "df = pd.read_pickle(os.path.join(path, '01. Data', 'Prepared data', 'road_safety_cleaned.pkl'))"
   ]
  },
  {
   "cell_type": "code",
   "execution_count": null,
   "id": "bbb9e834-19e7-4f06-96f4-950a9cf0ffc2",
   "metadata": {},
   "outputs": [],
   "source": [
    "# Command to maximize view of rows and columns\n",
    "pd.options.display.max_rows = None\n",
    "pd.options.display.max_columns = len(df.columns)"
   ]
  },
  {
   "cell_type": "code",
   "execution_count": null,
   "id": "51d0e0eb-7b45-42a0-82f6-1da26f92c309",
   "metadata": {},
   "outputs": [],
   "source": [
    "df[['Lat', 'Lon']] = df[['Lat', 'Lon']].astype('float64')\n",
    "df.head(2)"
   ]
  },
  {
   "cell_type": "code",
   "execution_count": null,
   "id": "26547e0c-7e77-4235-9ef2-f63c2b611763",
   "metadata": {
    "tags": []
   },
   "outputs": [],
   "source": [
    "df['Position Type'].value_counts()"
   ]
  },
  {
   "cell_type": "code",
   "execution_count": null,
   "id": "59f5935e-3bfa-4b9b-b6db-16edb8ecba4d",
   "metadata": {},
   "outputs": [],
   "source": [
    "# Import \".json\" file for the U.S. \n",
    "\n",
    "suburb_geo = os.path.join(path, '01. Data', 'Original Data', 'Suburbs_geojson', 'Suburbs_GDA2020.geojson')"
   ]
  },
  {
   "cell_type": "code",
   "execution_count": null,
   "id": "7b8420f8-9c62-4b82-beea-c0b27829f76a",
   "metadata": {},
   "outputs": [],
   "source": [
    "# load GeoJSON\n",
    "with open(suburb_geo) as jsonFile:\n",
    "    geo_data = json.load(jsonFile)"
   ]
  },
  {
   "cell_type": "code",
   "execution_count": null,
   "id": "60c22270-abd0-452f-ad7c-80e75b9ee0e5",
   "metadata": {
    "tags": []
   },
   "outputs": [],
   "source": [
    "geo_data"
   ]
  },
  {
   "cell_type": "code",
   "execution_count": null,
   "id": "1c7576c6-97af-4e8e-b534-0e15f94b0e03",
   "metadata": {},
   "outputs": [],
   "source": [
    "# remove post code codes not in geo data\n",
    "\n",
    "geo_postcode = []\n",
    "\n",
    "for i in range(len(geo_data['features'])):\n",
    "    if geo_data['features'][i]['properties']['postcode'] in list(df['Postcode'].unique()):\n",
    "        geo_postcode.append(geo_data['features'][i])"
   ]
  },
  {
   "cell_type": "code",
   "execution_count": null,
   "id": "acb3ec51-f919-44c5-9fe1-5fa6ed722eec",
   "metadata": {
    "tags": []
   },
   "outputs": [],
   "source": [
    "geo_postcode"
   ]
  },
  {
   "cell_type": "code",
   "execution_count": null,
   "id": "4f7c132d-27f3-4eea-975a-ccb886219997",
   "metadata": {},
   "outputs": [],
   "source": [
    "# creating new JSON object\n",
    "\n",
    "new_json = dict.fromkeys(['type','features'])\n",
    "new_json['type'] = 'FeatureCollection'\n",
    "new_json['features'] = geo_postcode"
   ]
  },
  {
   "cell_type": "code",
   "execution_count": null,
   "id": "ae766e01-5c99-4b2f-8d36-d21d58a98fde",
   "metadata": {
    "tags": []
   },
   "outputs": [],
   "source": [
    "# save uodated JSON object\n",
    "open('cleaned_geodata.json', 'w').write(json.dumps(new_json, sort_keys=True, indent=4, separators=(',', ': ')))"
   ]
  },
  {
   "cell_type": "code",
   "execution_count": null,
   "id": "ec31d6c0-154a-454d-93c6-0da8584892a3",
   "metadata": {},
   "outputs": [],
   "source": [
    "locs_geometry = [Point(xy) for xy in zip(df['Lon'], df['Lat'])]\n",
    "\n",
    "crs = CRS('EPSG:4326')\n",
    "# Coordinate Reference Systems, \"epsg:4326\" is a common projection of WGS84 Latitude/Longitude\n",
    "\n",
    "locs_gdf = gpd.GeoDataFrame(df, crs=crs, geometry=locs_geometry)"
   ]
  },
  {
   "cell_type": "code",
   "execution_count": null,
   "id": "e66be648-2488-445c-9d0c-443818fe6862",
   "metadata": {
    "tags": []
   },
   "outputs": [],
   "source": [
    "locs_gdf.head()"
   ]
  },
  {
   "cell_type": "markdown",
   "id": "e18dfcce-255b-444c-8d30-a0fded585b63",
   "metadata": {},
   "source": [
    "### Circle Marker Map"
   ]
  },
  {
   "cell_type": "code",
   "execution_count": null,
   "id": "d8e8b398-fe6f-47bb-8c74-c1f02522bfb0",
   "metadata": {
    "tags": []
   },
   "outputs": [],
   "source": [
    "crash_map = folium.Map(location=[-34.921230, 138.599503], zoom_start=11)\n",
    "\n",
    "feature_ft = folium.FeatureGroup(name='Fatality')\n",
    "feature_si = folium.FeatureGroup(name='Serious Injury')\n",
    "feature_mi = folium.FeatureGroup(name='Minor Injury')\n",
    "feature_pd = folium.FeatureGroup(name='Property Damage')\n",
    "\n",
    "for i, v in locs_gdf.iterrows():\n",
    "    popup = \"\"\"\n",
    "    Suburb : <b>%s</b><br>\n",
    "    Sex : <b>%s</b><br>\n",
    "    Age : <b>%s</b><br>\n",
    "    Total Casualty : <b>%d</b><br>\n",
    "    \"\"\" % (v['Suburb'], v['Sex'], v['Age'], v['Total Cas'])\n",
    "    \n",
    "    if v['Target'] == 'Fatal':\n",
    "        folium.CircleMarker(location=[v['Lat'], v['Lon']],\n",
    "                            radius=1,\n",
    "                            tooltip=popup,\n",
    "                            color='#FF0700',\n",
    "                            fill_color='#FF0700',\n",
    "                            fill=True).add_to(feature_ft)\n",
    "    elif v['Target'] == 'Si':\n",
    "        folium.CircleMarker(location=[v['Lat'], v['Lon']],\n",
    "                            radius=1,\n",
    "                            tooltip=popup,\n",
    "                            color='#FF5722',\n",
    "                            fill_color='#FF5722',\n",
    "                            fill=True).add_to(feature_si)\n",
    "    elif v['Target'] == 'Mi':\n",
    "        folium.CircleMarker(location=[v['Lat'], v['Lon']],\n",
    "                            radius=1,\n",
    "                            tooltip=popup,\n",
    "                            color='#087FBF',\n",
    "                            fill_color='#087FBF',\n",
    "                            fill=True).add_to(feature_mi)\n",
    "    elif v['Target'] == 'Pdo':\n",
    "        folium.CircleMarker(location=[v['Lat'], v['Lon']],\n",
    "                            radius=1,\n",
    "                            tooltip=popup,\n",
    "                            color='#007944',\n",
    "                            fill_color='#007944',\n",
    "                            fill=True).add_to(feature_pd)\n",
    "\n",
    "feature_ft.add_to(crash_map)\n",
    "feature_si.add_to(crash_map)\n",
    "feature_mi.add_to(crash_map)\n",
    "feature_pd.add_to(crash_map)\n",
    "folium.LayerControl(collapsed=False).add_to(crash_map)"
   ]
  },
  {
   "cell_type": "code",
   "execution_count": null,
   "id": "5a09b80c-2d78-46d4-9e40-b8fa5ac2ee47",
   "metadata": {},
   "outputs": [],
   "source": [
    "crash_map"
   ]
  },
  {
   "cell_type": "markdown",
   "id": "c97bc555-440c-4b10-bf28-e4a7ca3cace9",
   "metadata": {},
   "source": [
    "### Density Map (Based on Postcode)"
   ]
  },
  {
   "cell_type": "code",
   "execution_count": null,
   "id": "d6343709-fcdf-45dd-80a3-beb0702e0669",
   "metadata": {
    "tags": []
   },
   "outputs": [],
   "source": [
    "total_accident = df.groupby('Postcode').agg({'Postcode': 'count', 'Total Cas': 'sum'})\n",
    "total_accident = total_accident.rename(columns ={'Postcode': 'Number of Accidents'}).reset_index()\n",
    "total_accident.head()"
   ]
  },
  {
   "cell_type": "code",
   "execution_count": null,
   "id": "f76c4483-c282-4080-84db-5d64a85b00ee",
   "metadata": {},
   "outputs": [],
   "source": [
    "def accident_map(datatoplot, x, y, legend):\n",
    "    cleaned_geo = 'cleaned_geodata.json'\n",
    "    fol = folium.Map(location=[-34.921230, 138.599503], zoom_start=11)\n",
    "    \n",
    "    chor = folium.Choropleth(\n",
    "        geo_data = cleaned_geo, \n",
    "        data = datatoplot,\n",
    "        columns = [x, y],\n",
    "        key_on = 'feature.properties.postcode', \n",
    "        fill_color = 'OrRd', fill_opacity=0.6, line_opacity=0.2,\n",
    "        nan_fill_color = 'grey',\n",
    "        legend_name = legend\n",
    "    )\n",
    "    return {'fol': fol, 'chor': chor}"
   ]
  },
  {
   "cell_type": "code",
   "execution_count": null,
   "id": "7a93ae10-abd8-459a-975c-4820de092698",
   "metadata": {
    "tags": []
   },
   "outputs": [],
   "source": [
    "# Plotting\n",
    "\n",
    "plot_sum = accident_map(total_accident, 'Postcode', 'Number of Accidents', 'Number of Accidents')\n",
    "plot_sum['chor'].add_to(plot_sum['fol'])\n",
    "folium.LayerControl().add_to(plot_sum['fol'])\n",
    "\n",
    "plot_sum['fol']"
   ]
  },
  {
   "cell_type": "markdown",
   "id": "3373f8aa-e738-444e-b4ac-2a7e3c9ef6f5",
   "metadata": {},
   "source": [
    "### Heat Map"
   ]
  },
  {
   "cell_type": "code",
   "execution_count": null,
   "id": "48b5cb42-fc44-4272-ac11-c14616d3ce70",
   "metadata": {},
   "outputs": [],
   "source": [
    "total_accident2 = df.groupby(['Lat', 'Lon']).agg({'Postcode': 'count'})\n",
    "total_accident2 = total_accident2.rename(columns ={'Postcode': 'Number of Accidents'}).reset_index()\n",
    "total_accident2.head()"
   ]
  },
  {
   "cell_type": "code",
   "execution_count": null,
   "id": "2d0a140b-5378-4a05-b067-a9ff4b5abba8",
   "metadata": {
    "tags": []
   },
   "outputs": [],
   "source": [
    "# Plotting heat map\n",
    "\n",
    "map_heat = folium.Map([-34.921230, 138.599503], zoom_start = 9, width = \"%100\", height = \"%100\")\n",
    "\n",
    "#heat_data = df.groupby(['Lat','Lon'])['Postcode'].sum().reset_index().values.tolist()\n",
    "\n",
    "folium.plugins.HeatMap(total_accident2).add_to(map_heat)\n",
    "\n",
    "map_heat"
   ]
  },
  {
   "cell_type": "markdown",
   "id": "2f97057b-92a7-48e1-b432-e2204d57bee6",
   "metadata": {},
   "source": [
    "### Cluster Map"
   ]
  },
  {
   "cell_type": "code",
   "execution_count": null,
   "id": "da285c9d-0f47-418b-b27f-23af46f60c9f",
   "metadata": {
    "tags": []
   },
   "outputs": [],
   "source": [
    "# Plotting as cluster\n",
    "\n",
    "map_cluster = folium.Map([-34.921230, 138.599503], zoom_start=10,width=\"%100\",height=\"%100\")\n",
    "\n",
    "markerCluster = MarkerCluster(control=False).add_to(map_cluster)\n",
    "\n",
    "for i, row in df.iterrows():\n",
    "    lat = df.at[i, 'Lat']\n",
    "    lng = df.at[i, 'Lon']\n",
    "\n",
    "    folium.Marker(location = [lat, lng]).add_to(markerCluster)\n",
    "\n",
    "map_cluster"
   ]
  },
  {
   "cell_type": "markdown",
   "id": "d1aef6c1-56e8-4047-a8ab-d9a1101e29da",
   "metadata": {},
   "source": [
    "### Calculating New Feature: Distance to City Center"
   ]
  },
  {
   "cell_type": "code",
   "execution_count": null,
   "id": "15d8de27-bd47-4623-9e78-bebc9e831ed8",
   "metadata": {},
   "outputs": [],
   "source": [
    "def distance(lat1, lon1, lat2, lon2):\n",
    "    p = pi/180\n",
    "    a = 0.5 - cos((lat2-lat1)*p)/2 + cos(lat1*p) * cos(lat2*p) * (1-cos((lon2-lon1)*p))/2\n",
    "    return round(12742 * asin(sqrt(a)), 2)"
   ]
  },
  {
   "cell_type": "code",
   "execution_count": null,
   "id": "bb398a75-6e47-482c-9035-705bbab557d9",
   "metadata": {
    "tags": []
   },
   "outputs": [],
   "source": [
    "distance_to_cc = []\n",
    "\n",
    "for i in range (len(df)):\n",
    "    lat1 = -34.929\n",
    "    lon1 = 138.601\n",
    "\n",
    "    lat2 = df.iloc[i, 25]\n",
    "    lon2 = df.iloc[i, 26]\n",
    "    \n",
    "    distance_to_cc.append(distance(lat1, lon1, lat2, lon2)) # in km"
   ]
  },
  {
   "cell_type": "code",
   "execution_count": null,
   "id": "fbb52e22-ce33-4edd-8f08-3e1deaee8a35",
   "metadata": {
    "tags": []
   },
   "outputs": [],
   "source": [
    "df['Distance To CC'] = distance_to_cc"
   ]
  },
  {
   "cell_type": "code",
   "execution_count": null,
   "id": "dc9d19f0-bb3d-4c6d-b21f-f3c058cad07f",
   "metadata": {
    "tags": []
   },
   "outputs": [],
   "source": [
    "dist_to_cc = df.groupby(['Distance To CC', 'Total Cas' , 'Target']).agg({'Distance To CC': 'count'}).rename(columns = {'Distance To CC': 'Counts'}).reset_index().sort_values(by='Total Cas', ascending=False)\n",
    "dist_to_cc = pd.DataFrame(dist_to_cc)\n",
    "dist_to_cc.head()"
   ]
  },
  {
   "cell_type": "code",
   "execution_count": null,
   "id": "d57c94ba-1380-426b-9056-d210bd1ee8ba",
   "metadata": {},
   "outputs": [],
   "source": [
    "dist_to_cc.max()"
   ]
  },
  {
   "cell_type": "code",
   "execution_count": null,
   "id": "e33cd161-928b-46e8-937a-f6bee4536689",
   "metadata": {
    "tags": []
   },
   "outputs": [],
   "source": [
    "hue_order = ['Pdo', 'Mi', 'Si', 'Fatal']\n",
    "palette = ['#007944', '#087FBF', '#FF5722', '#FF0700']\n",
    "\n",
    "# Change figure size\n",
    "plt.figure(figsize=(20, 6))\n",
    "\n",
    "sns.set(style=\"ticks\")\n",
    "sc = sns.scatterplot(x = 'Distance To CC', y = 'Counts', hue = 'Target', hue_order = hue_order, size = 'Total Cas', \n",
    "                     sizes = (10, 300), palette = palette, data = dist_to_cc)\n",
    "\n",
    "\n",
    "\n",
    "sc.set(ylabel='Number of Accidents')\n",
    "sc.set(xlabel='Distance to Downtown')\n",
    "sc.set(ylim=(-1, 50))\n",
    "sc.set(xlim=(-5, 1200))\n",
    "sc.set(xticks=np.arange(0, 1300, 100))\n",
    "sc.set_xticklabels(list(range(0, 1300, 100)))\n",
    "plt.show()"
   ]
  },
  {
   "cell_type": "code",
   "execution_count": null,
   "id": "f00aa6cb-23b8-46d5-bfcc-cf8ba7d3fb16",
   "metadata": {},
   "outputs": [],
   "source": [
    "# Grouping Minor injury, Serious injury abd fatality into one class\n",
    "\n",
    "df.loc[df['Target'] == 'Mi', 'Severity'] = 'Injury/Death'\n",
    "df.loc[df['Target'] == 'Si', 'Severity'] = 'Injury/Death'\n",
    "df.loc[df['Target'] == 'Fatal', 'Severity'] = 'Injury/Death'\n",
    "df.loc[df['Target'] == 'Pdo', 'Severity'] = 'PDO'"
   ]
  },
  {
   "cell_type": "code",
   "execution_count": null,
   "id": "8a3ed2ce-856e-4f1a-be54-2075243b3d99",
   "metadata": {},
   "outputs": [],
   "source": [
    "df.head()"
   ]
  },
  {
   "cell_type": "code",
   "execution_count": null,
   "id": "da476616-4c99-45f0-bd6b-b76069b592ca",
   "metadata": {},
   "outputs": [],
   "source": [
    "df.to_pickle(os.path.join(path, '01. Data', 'Prepared data', 'road_safety_cleaned_Tab.pkl'))\n",
    "df.to_csv(os.path.join(path, '01. Data', 'Prepared data', 'road_safety_cleaned_Tab.csv'), sep = ',')"
   ]
  },
  {
   "cell_type": "code",
   "execution_count": null,
   "id": "ae80d82f-fcfe-4e82-8c19-019a3e954beb",
   "metadata": {
    "tags": []
   },
   "outputs": [],
   "source": [
    "gc.collect()"
   ]
  }
 ],
 "metadata": {
  "kernelspec": {
   "display_name": "Python 3 (ipykernel)",
   "language": "python",
   "name": "python3"
  },
  "language_info": {
   "codemirror_mode": {
    "name": "ipython",
    "version": 3
   },
   "file_extension": ".py",
   "mimetype": "text/x-python",
   "name": "python",
   "nbconvert_exporter": "python",
   "pygments_lexer": "ipython3",
   "version": "3.9.12"
  }
 },
 "nbformat": 4,
 "nbformat_minor": 5
}
