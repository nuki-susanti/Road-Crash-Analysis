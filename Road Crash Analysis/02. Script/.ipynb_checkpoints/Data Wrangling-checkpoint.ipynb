{
 "cells": [
  {
   "cell_type": "code",
   "execution_count": null,
   "id": "c06dd994-3535-4a40-b767-47a605875115",
   "metadata": {},
   "outputs": [],
   "source": [
    "import pandas as pd\n",
    "import numpy as np\n",
    "import seaborn as sns\n",
    "import matplotlib.pyplot as plt\n",
    "import os\n",
    "import gc\n",
    "\n",
    "from sklearn.preprocessing import OneHotEncoder, LabelEncoder\n",
    "from sklearn.model_selection import train_test_split\n",
    "from sklearn.tree import DecisionTreeClassifier, plot_tree\n",
    "from sklearn.metrics import accuracy_score, confusion_matrix\n",
    "\n",
    "from sklearn.ensemble import RandomForestClassifier\n",
    "from sklearn.linear_model import LinearRegression, LogisticRegression\n",
    "from sklearn.feature_selection import RFE\n",
    "from sklearn.linear_model import RidgeCV, LassoCV, Ridge, Lasso"
   ]
  },
  {
   "cell_type": "code",
   "execution_count": null,
   "id": "bf826ab8-29a3-4780-9825-1fe1988fcdbd",
   "metadata": {},
   "outputs": [],
   "source": [
    "%matplotlib inline"
   ]
  },
  {
   "cell_type": "code",
   "execution_count": null,
   "id": "fe14f6b0-c86f-4dde-ae59-a212e1c03887",
   "metadata": {},
   "outputs": [],
   "source": [
    "path = r'C:\\Users\\nukis\\Documents\\Projects\\08. Road Safety'"
   ]
  },
  {
   "cell_type": "code",
   "execution_count": null,
   "id": "ee389c9c-1992-4622-a4bf-586b2c4cace0",
   "metadata": {},
   "outputs": [],
   "source": [
    "df_crash = pd.read_pickle(os.path.join(path, '01. Data', 'Prepared data', 'crash_cleaned.pkl'))"
   ]
  },
  {
   "cell_type": "code",
   "execution_count": null,
   "id": "a3179566-97eb-4af0-866d-578f590682a2",
   "metadata": {},
   "outputs": [],
   "source": [
    "df_uncas = pd.read_pickle(os.path.join(path, '01. Data', 'Prepared data', 'unitcasualty_cleaned.pkl'))"
   ]
  },
  {
   "cell_type": "markdown",
   "id": "1519a4b4-06ee-4c4b-b394-4e5da9f171b6",
   "metadata": {
    "tags": []
   },
   "source": [
    "### 2. Merging Dataframes"
   ]
  },
  {
   "cell_type": "code",
   "execution_count": null,
   "id": "8a5c7131-f395-4ca3-abdb-b42e56287be8",
   "metadata": {
    "tags": []
   },
   "outputs": [],
   "source": [
    "df = df_crash.merge(df_uncas, on = 'REPORT_ID', how = 'left')"
   ]
  },
  {
   "cell_type": "code",
   "execution_count": null,
   "id": "61df774f-e50a-4c8f-ba5e-02fa5d779cfd",
   "metadata": {
    "tags": []
   },
   "outputs": [],
   "source": [
    "# Command to maximize view of rows and columns\n",
    "\n",
    "pd.options.display.max_rows = None\n",
    "pd.options.display.max_columns = len(df.columns)"
   ]
  },
  {
   "cell_type": "code",
   "execution_count": null,
   "id": "4c1d5d4d-31b1-4867-8935-6bdfc3f912e0",
   "metadata": {},
   "outputs": [],
   "source": [
    "df.shape"
   ]
  },
  {
   "cell_type": "code",
   "execution_count": null,
   "id": "ec7f51c9-81f8-4cd6-89a4-5417d1742a61",
   "metadata": {
    "tags": []
   },
   "outputs": [],
   "source": [
    "df.info()"
   ]
  },
  {
   "cell_type": "markdown",
   "id": "d1f26c80-3603-424b-916e-da326090868e",
   "metadata": {},
   "source": [
    "### 3. Data Cleaning"
   ]
  },
  {
   "cell_type": "code",
   "execution_count": null,
   "id": "7f16f63e-221c-4293-abd3-f9711da0831a",
   "metadata": {},
   "outputs": [],
   "source": [
    "# Cleaning Space\n",
    "\n",
    "cat = df.select_dtypes(include = ['object']).columns\n",
    "\n",
    "for i in cat:\n",
    "    try:\n",
    "        df[i] = df[i].apply(lambda x: x.strip())\n",
    "        df[i] = df[i].apply(lambda x: x.title())\n",
    "        df.loc[(df[i] == 'Unknown') | (df[i] == 'N/A') | (df[i] == 'Xx') | (df[i] == 'Xxx') | (df[i] == 'Xxxx'), i] = np.NaN\n",
    "    except:\n",
    "        print(i)"
   ]
  },
  {
   "cell_type": "code",
   "execution_count": null,
   "id": "253721c2-a842-40ae-bb95-9a1ec9a9ba9b",
   "metadata": {
    "tags": []
   },
   "outputs": [],
   "source": [
    "# Check for missing values\n",
    "\n",
    "df.isnull().sum()"
   ]
  },
  {
   "cell_type": "code",
   "execution_count": null,
   "id": "4af5f374-1efa-4356-9923-830904d5adfc",
   "metadata": {
    "tags": []
   },
   "outputs": [],
   "source": [
    "# Check for missing values\n",
    "\n",
    "pd.DataFrame(data = [round(i/len(df) * 100, 2) for i in df.isnull().sum().to_list()], index = df.columns, columns = ['Missing Values %']).T"
   ]
  },
  {
   "cell_type": "code",
   "execution_count": null,
   "id": "a059890a-de09-4f8b-a18f-36a41c322fc9",
   "metadata": {},
   "outputs": [],
   "source": [
    "# Dropping the missing values from data\n",
    "\n",
    "df.dropna(inplace=True)\n",
    "df.shape"
   ]
  },
  {
   "cell_type": "code",
   "execution_count": null,
   "id": "528c5e1a-b85d-49c5-a956-540eea4a5a1a",
   "metadata": {
    "tags": []
   },
   "outputs": [],
   "source": [
    "# Check again for missing values\n",
    "\n",
    "df.isnull().sum()"
   ]
  },
  {
   "cell_type": "code",
   "execution_count": null,
   "id": "0f035066-e28f-4ad1-a0a3-7c0455243772",
   "metadata": {},
   "outputs": [],
   "source": [
    "# Check for duplicates\n",
    "\n",
    "dups = df.duplicated(keep = 'last')\n",
    "dups.sum() "
   ]
  },
  {
   "cell_type": "code",
   "execution_count": null,
   "id": "d4351923-40df-42a5-b0ee-2ca93f7e649d",
   "metadata": {},
   "outputs": [],
   "source": [
    "# Drop duplicates\n",
    "\n",
    "df = df.drop_duplicates()\n",
    "dups = df.duplicated()\n",
    "dups.sum()"
   ]
  },
  {
   "cell_type": "code",
   "execution_count": null,
   "id": "f4b0c2e8-cd02-4281-85fa-41444c7e2da7",
   "metadata": {},
   "outputs": [],
   "source": [
    "# Check for mixed-type data in dataframe\n",
    "\n",
    "for col in df.columns.tolist():\n",
    "  weird = (df[[col]].applymap(type) != df[[col]].iloc[0].apply(type)).any(axis = 1)\n",
    "  if len (df[weird]) > 0:\n",
    "    print (col) # No mixed-type"
   ]
  },
  {
   "cell_type": "code",
   "execution_count": null,
   "id": "af3b0843-5bcc-46e6-848b-7ed4fcfefe68",
   "metadata": {},
   "outputs": [],
   "source": [
    "df.shape"
   ]
  },
  {
   "cell_type": "code",
   "execution_count": null,
   "id": "3f7f8c40-0158-46eb-90f7-0d563fa7bafe",
   "metadata": {
    "tags": []
   },
   "outputs": [],
   "source": [
    "df.info()"
   ]
  },
  {
   "cell_type": "code",
   "execution_count": null,
   "id": "9bb0427e-8a1e-4f89-ac15-36bbbcdbd0ac",
   "metadata": {
    "tags": []
   },
   "outputs": [],
   "source": [
    "# Convert data type\n",
    "\n",
    "df['Age'] = df['Age'].astype('int64')\n",
    "df['DUI Involved'] = df['DUI Involved'].astype('int64')\n",
    "df['Drugs Involved'] = df['Drugs Involved'].astype('int64')\n",
    "df['Lat'] = df['Lat'].astype('float64')\n",
    "df['Lon'] = df['Lon'].astype('float64')\n",
    "df['Veh Year'] = df['Veh Year'].astype('float64')"
   ]
  },
  {
   "cell_type": "markdown",
   "id": "35e728bc-c459-4fc7-b6ee-e16eb91d7030",
   "metadata": {},
   "source": [
    "### 4. Data Pre-Prossesing"
   ]
  },
  {
   "cell_type": "markdown",
   "id": "c1d5f425-7526-42af-bd02-a8d200a278d7",
   "metadata": {},
   "source": [
    "#### Hour Grouping\n",
    "##### Hour is converted into hourly basis."
   ]
  },
  {
   "cell_type": "code",
   "execution_count": null,
   "id": "e8eb0b07-840a-4d05-b391-d52b7bbb8669",
   "metadata": {},
   "outputs": [],
   "source": [
    "hourly = []\n",
    "\n",
    "for i in df['Hour']:\n",
    "    n = 2\n",
    "    i = i[:n]\n",
    "        \n",
    "    hourly.append(i)"
   ]
  },
  {
   "cell_type": "code",
   "execution_count": null,
   "id": "e8228a8d-f1cb-4db0-b4f2-533b64f23d2f",
   "metadata": {
    "tags": []
   },
   "outputs": [],
   "source": [
    "df['Hourly'] = hourly\n",
    "df['Hourly'] = df['Hourly'].astype('int64')"
   ]
  },
  {
   "cell_type": "code",
   "execution_count": null,
   "id": "994f5872-9c94-4268-9750-7939769b1c6a",
   "metadata": {},
   "outputs": [],
   "source": [
    "df = df.drop(columns = ['REPORT_ID', 'Hour'])"
   ]
  },
  {
   "cell_type": "markdown",
   "id": "f70bc513-183d-4ace-9070-bea0043ccb6d",
   "metadata": {},
   "source": [
    "#### Day Grouping"
   ]
  },
  {
   "cell_type": "code",
   "execution_count": null,
   "id": "4c481145-9f72-44fd-ab19-50d1a5941e7c",
   "metadata": {},
   "outputs": [],
   "source": [
    "df.loc[(df['Day'] == 'Monday') | (df['Day'] == 'Tuesday') | (df['Day'] == 'Wednesday') |\n",
    "           (df['Day'] == 'Thursday') | (df['Day'] == 'Friday'), 'Day Group'] = 'Weekday'\n",
    "df.loc[(df['Day'] == 'Saturday') | (df['Day'] == 'Sunday'), 'Day Group'] = 'Weekend'"
   ]
  },
  {
   "cell_type": "markdown",
   "id": "39db7bdb-c367-4626-8fcc-eef80e076111",
   "metadata": {},
   "source": [
    "#### Month Grouping"
   ]
  },
  {
   "cell_type": "code",
   "execution_count": null,
   "id": "41b0655b-af95-4710-9645-2715940587ac",
   "metadata": {},
   "outputs": [],
   "source": [
    "df.loc[(df['Month'] == 'January') | (df['Month'] == 'February') | (df['Month'] == 'March'), 'Month Group'] = 'Q1'\n",
    "df.loc[(df['Month'] == 'April') | (df['Month'] == 'May') | (df['Month'] == 'June'), 'Month Group'] = 'Q2'\n",
    "df.loc[(df['Month'] == 'July') | (df['Month'] == 'August') | (df['Month'] == 'September'), 'Month Group'] = 'Q3'\n",
    "df.loc[(df['Month'] == 'October') | (df['Month'] == 'November') | (df['Month'] == 'December'), 'Month Group'] = 'Q1'"
   ]
  },
  {
   "cell_type": "markdown",
   "id": "fb875469-55ec-4666-9a8a-7b5ef00bbc85",
   "metadata": {},
   "source": [
    "#### Target Column"
   ]
  },
  {
   "cell_type": "code",
   "execution_count": null,
   "id": "65a1e4a4-3a31-4737-95bc-11714185285b",
   "metadata": {},
   "outputs": [],
   "source": [
    "# Changing name of the target column\n",
    "\n",
    "df = df.rename(columns = {'CSEF Severity' : 'Target'})"
   ]
  },
  {
   "cell_type": "code",
   "execution_count": null,
   "id": "1404df14-9d36-4cd6-925b-6f3c19a996c6",
   "metadata": {},
   "outputs": [],
   "source": [
    "target_trim = []\n",
    "\n",
    "for i in df['Target']:\n",
    "    target_trim.append(i[3:])"
   ]
  },
  {
   "cell_type": "code",
   "execution_count": null,
   "id": "adbdcbf5-eebb-43f3-afc3-15bdf57708a2",
   "metadata": {
    "tags": []
   },
   "outputs": [],
   "source": [
    "df['Target'] = target_trim"
   ]
  },
  {
   "cell_type": "code",
   "execution_count": null,
   "id": "323f8250-6471-489c-bee9-1dfdc999a98c",
   "metadata": {
    "tags": []
   },
   "outputs": [],
   "source": [
    "df.info()"
   ]
  },
  {
   "cell_type": "code",
   "execution_count": null,
   "id": "6516d597-c3f6-4692-8543-fc173c686d0b",
   "metadata": {},
   "outputs": [],
   "source": [
    "# Export data to pkl\n",
    "\n",
    "df.to_pickle(os.path.join(path, '01. Data', 'Prepared data', 'road_safety_cleaned.pkl'))\n",
    "df.to_csv(os.path.join(path, '01. Data', 'Prepared data', 'road_safety_cleaned.csv'), sep = ',')"
   ]
  },
  {
   "cell_type": "markdown",
   "id": "956e62ff-d8c1-49e1-970e-954122f0fe62",
   "metadata": {},
   "source": [
    "#### Accident Severity Analysis"
   ]
  },
  {
   "cell_type": "code",
   "execution_count": null,
   "id": "34e64457-9cf3-4aec-a323-08901c58845d",
   "metadata": {
    "tags": []
   },
   "outputs": [],
   "source": [
    "labels = ['Property Damage Only', 'Minor Injury', 'Serious Injury', 'Fatality']\n",
    "colors = ['#FEF9A7', '#FAC213', '#F77E21', '#D61C4E']\n",
    "\n",
    "fig, ax = plt.subplots()\n",
    "myexplode = (0.05, 0.05, 0.05, 0.2)\n",
    "\n",
    "ax.pie(df['Target'].value_counts(), explode = myexplode, labels = labels,autopct='%1.1f%%', \n",
    "        wedgeprops={'linewidth': 3.0, 'edgecolor': 'white'}, startangle = 90, colors = colors)\n",
    "\n",
    "ax.set_title('Accident Severity', fontsize = 14)\n",
    "plt.show()"
   ]
  },
  {
   "cell_type": "code",
   "execution_count": null,
   "id": "2a0a2757-5d2a-4d08-aa11-ff747f183e0c",
   "metadata": {},
   "outputs": [],
   "source": [
    "# Function for drawing countplot\n",
    "\n",
    "def countplot(x):\n",
    "    plt.figure(figsize = (8, 6))\n",
    "    sns.countplot(data = df, x = x, palette = 'mako_r', \n",
    "                  order = df[x].value_counts().index)"
   ]
  },
  {
   "cell_type": "code",
   "execution_count": null,
   "id": "cdb635ef-4501-4f29-aa89-ed748640c51c",
   "metadata": {
    "tags": []
   },
   "outputs": [],
   "source": [
    "countplot('Target')"
   ]
  },
  {
   "cell_type": "code",
   "execution_count": null,
   "id": "95f76e9d-7e8b-4b66-88fc-d6728b53c195",
   "metadata": {},
   "outputs": [],
   "source": [
    "# Export data to pkl\n",
    "\n",
    "df.to_pickle(os.path.join(path, '01. Data', 'Prepared data', 'road_safety_cleaned.pkl'))\n",
    "df.to_csv(os.path.join(path, '01. Data', 'Prepared data', 'road_safety_cleaned.csv'), sep = ',')"
   ]
  }
 ],
 "metadata": {
  "kernelspec": {
   "display_name": "Python 3 (ipykernel)",
   "language": "python",
   "name": "python3"
  },
  "language_info": {
   "codemirror_mode": {
    "name": "ipython",
    "version": 3
   },
   "file_extension": ".py",
   "mimetype": "text/x-python",
   "name": "python",
   "nbconvert_exporter": "python",
   "pygments_lexer": "ipython3",
   "version": "3.9.12"
  }
 },
 "nbformat": 4,
 "nbformat_minor": 5
}
