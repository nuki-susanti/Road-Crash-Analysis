{
 "cells": [
  {
   "cell_type": "code",
   "execution_count": null,
   "id": "c06dd994-3535-4a40-b767-47a605875115",
   "metadata": {},
   "outputs": [],
   "source": [
    "import pandas as pd\n",
    "import numpy as np\n",
    "import seaborn as sns\n",
    "import matplotlib.pyplot as plt\n",
    "import matplotlib\n",
    "import os\n",
    "import gc"
   ]
  },
  {
   "cell_type": "code",
   "execution_count": null,
   "id": "bf826ab8-29a3-4780-9825-1fe1988fcdbd",
   "metadata": {},
   "outputs": [],
   "source": [
    "%matplotlib inline"
   ]
  },
  {
   "cell_type": "code",
   "execution_count": null,
   "id": "fe14f6b0-c86f-4dde-ae59-a212e1c03887",
   "metadata": {},
   "outputs": [],
   "source": [
    "path = r'C:\\Users\\nukis\\Documents\\Projects\\08. Bike Safety'"
   ]
  },
  {
   "cell_type": "code",
   "execution_count": null,
   "id": "ae164cd0-7ba3-4c55-a9e5-0efa007dc894",
   "metadata": {},
   "outputs": [],
   "source": [
    "df_un = pd.read_csv(os.path.join(path, '01. Data', 'Original data', '2021_DATA_SA_Units.csv'), low_memory=False)"
   ]
  },
  {
   "cell_type": "code",
   "execution_count": null,
   "id": "61df774f-e50a-4c8f-ba5e-02fa5d779cfd",
   "metadata": {
    "tags": []
   },
   "outputs": [],
   "source": [
    "# Command to maximize view of rows and columns\n",
    "pd.options.display.max_rows = None\n",
    "pd.options.display.max_columns = len(df_un.columns)"
   ]
  },
  {
   "cell_type": "code",
   "execution_count": null,
   "id": "6eab08c3-121e-43eb-9df8-951dec8b7799",
   "metadata": {
    "tags": []
   },
   "outputs": [],
   "source": [
    "df_un = df_un.reset_index()\n",
    "df_un.drop('index', axis=1, inplace=True)\n",
    "df_un.head() "
   ]
  },
  {
   "cell_type": "markdown",
   "id": "b4a35e66-95f3-41fe-bd0a-caf4faf069a1",
   "metadata": {},
   "source": [
    "# Data Cleaning - Units"
   ]
  },
  {
   "cell_type": "code",
   "execution_count": null,
   "id": "aeac7553-4b56-45c9-8acf-9dd3fec5e99b",
   "metadata": {
    "tags": []
   },
   "outputs": [],
   "source": [
    "df_un = df_un.drop(columns = ['Unit No', 'No Of Cas', 'Veh Reg State', 'Lic State', 'Licence Class', 'Licence Type', 'Towing', 'Unit Movement', 'Number Occupants', 'Postcode', 'Rollover', 'Fire'], axis=1)"
   ]
  },
  {
   "cell_type": "code",
   "execution_count": null,
   "id": "f62692fc-9485-46cf-b568-e3b6bf78cbcb",
   "metadata": {
    "tags": []
   },
   "outputs": [],
   "source": [
    "# Check for missing values\n",
    "\n",
    "df_un.isnull().sum()"
   ]
  },
  {
   "cell_type": "code",
   "execution_count": null,
   "id": "78fe9c5a-6966-43d9-af1d-ecb56e0ef0f8",
   "metadata": {
    "tags": []
   },
   "outputs": [],
   "source": [
    "# Check for missing values\n",
    "\n",
    "pd.DataFrame(data = [round(i/len(df_un) * 100, 2) for i in df_un.isnull().sum().to_list()], index = df_un.columns, columns = ['Missing Values %']).T"
   ]
  },
  {
   "cell_type": "code",
   "execution_count": null,
   "id": "13119be7-9e2a-4234-a6b4-2dfa26763d7c",
   "metadata": {},
   "outputs": [],
   "source": [
    "# Check for duplicates\n",
    "\n",
    "dups = df_un.duplicated()\n",
    "dups.sum()"
   ]
  },
  {
   "cell_type": "code",
   "execution_count": null,
   "id": "427d0d2b-f5bc-48ef-be40-5d4fd4555c87",
   "metadata": {},
   "outputs": [],
   "source": [
    "# Drop duplicates\n",
    "\n",
    "df_un = df_un.drop_duplicates()\n",
    "dups = df_un.duplicated()\n",
    "dups.sum()"
   ]
  },
  {
   "cell_type": "code",
   "execution_count": null,
   "id": "2d63b0b5-f584-44dd-8714-e6c042be8703",
   "metadata": {},
   "outputs": [],
   "source": [
    "df_un.loc[df_un['Unit Type'] == 'Motor Cars - Sedan', 'Unit Involved'] = 'Motor Vehicle'\n",
    "df_un.loc[df_un['Unit Type'] == 'Station Wagon', 'Unit Involved'] = 'Motor Vehicle'\n",
    "df_un.loc[df_un['Unit Type'] == 'Utility', 'Unit Involved'] = 'Motor Vehicle'\n",
    "df_un.loc[df_un['Unit Type'] == 'RIGID TRUCK LGE GE 4.5T', 'Unit Involved'] = 'Motor Vehicle'\n",
    "df_un.loc[df_un['Unit Type'] == 'Motor Cycle', 'Unit Involved'] = 'Motor Vehicle'\n",
    "df_un.loc[df_un['Unit Type'] == 'Motor Vehicle - Type Unknown', 'Unit Involved'] = 'Motor Vehicle'\n",
    "df_un.loc[df_un['Unit Type'] == 'Panel Van', 'Unit Involved'] = 'Motor Vehicle'\n",
    "df_un.loc[df_un['Unit Type'] == 'OMNIBUS', 'Unit Involved'] = 'Motor Vehicle'\n",
    "df_un.loc[df_un['Unit Type'] == 'SEMI TRAILER', 'Unit Involved'] = 'Motor Vehicle'\n",
    "df_un.loc[df_un['Unit Type'] == 'BDOUBLE - ROAD TRAIN', 'Unit Involved'] = 'Motor Vehicle'\n",
    "df_un.loc[df_un['Unit Type'] == 'Other Defined Special Vehicle', 'Unit Involved'] = 'Motor Vehicle'\n",
    "df_un.loc[df_un['Unit Type'] == 'Taxi Cab', 'Unit Involved'] = 'Motor Vehicle'\n",
    "df_un.loc[df_un['Unit Type'] == 'Light Truck LT 4.5T','Unit Involved'] = 'Motor Vehicle'\n",
    "df_un.loc[df_un['Unit Type'] == 'Forward Control Passenger Van', 'Unit Involved'] = 'Motor Vehicle'\n",
    "df_un.loc[df_un['Unit Type'] == 'Motor Cars - Tourer', 'Unit Involved'] = 'Motor Vehicle'\n",
    "df_un.loc[df_un['Unit Type'] == 'Small Wheel Vehicle User', 'Unit Involved'] = 'Motor Vehicle'\n",
    "\n",
    "\n",
    "df_un.loc[df_un['Unit Type'] == 'Pedal Cycle', 'Unit Involved'] = 'Bicycle/Scooter'\n",
    "df_un.loc[df_un['Unit Type'] == 'Scooter', 'Unit Involved'] = 'Bicycle/Scooter'\n",
    "df_un.loc[df_un['Unit Type'] == 'Powered Scooter (E-Scooter)', 'Unit Involved'] = 'Bicycle/Scooter'\n",
    "df_un.loc[df_un['Unit Type'] == 'Motorised Wheelchair/Gopher', 'Unit Involved'] = 'Bicycle/Scooter'\n",
    "df_un.loc[df_un['Unit Type'] == 'Power Asst. Bicycle', 'Unit Involved'] = 'Bicycle/Scooter'\n",
    "df_un.loc[df_un['Unit Type'] == 'Wheelchair / Elec. Wheelchair', 'Unit Involved'] = 'Bicycle/Scooter'\n",
    "\n",
    "\n",
    "df_un.loc[df_un['Unit Type'] == 'Tram', 'Unit Involved'] = 'Railway Vehicle'\n",
    "df_un.loc[df_un['Unit Type'] == 'Railway Vehicle', 'Unit Involved'] = 'Railway Vehicle'\n",
    "\n",
    "\n",
    "df_un.loc[df_un['Unit Type'] == 'Other Fixed Obstruction', 'Unit Involved'] = 'Obstruction'\n",
    "df_un.loc[df_un['Unit Type'] == 'Tree', 'Unit Involved'] = 'Obstruction'\n",
    "df_un.loc[df_un['Unit Type'] == 'Pedestrian on Road', 'Unit Involved'] = 'Obstruction'\n",
    "df_un.loc[df_un['Unit Type'] == 'Stobie Pole', 'Unit Involved'] = 'Obstruction'\n",
    "df_un.loc[df_un['Unit Type'] == 'Guard Rail', 'Unit Involved'] = 'Obstruction'\n",
    "df_un.loc[df_un['Unit Type'] == 'Animal - Wild', 'Unit Involved'] = 'Obstruction'\n",
    "df_un.loc[df_un['Unit Type'] == 'Pole - not Stobie', 'Unit Involved'] = 'Obstruction'\n",
    "df_un.loc[df_un['Unit Type'] == 'Sign Post', 'Unit Involved'] = 'Obstruction'\n",
    "df_un.loc[df_un['Unit Type'] == 'Other Inanimate Object', 'Unit Involved'] = 'Obstruction'\n",
    "df_un.loc[df_un['Unit Type'] == 'Traffic Signal Pole', 'Unit Involved'] = 'Obstruction'\n",
    "df_un.loc[df_un['Unit Type'] == 'Pedestrian on Footpath/Carpark', 'Unit Involved'] = 'Obstruction'\n",
    "df_un.loc[df_un['Unit Type'] == 'Wire Rope Barrier', 'Unit Involved'] = 'Obstruction'\n",
    "df_un.loc[df_un['Unit Type'] == 'Animal - Domestic - Not Ridden', 'Unit Involved'] = 'Obstruction'\n",
    "df_un.loc[df_un['Unit Type'] == 'Bridge', 'Unit Involved'] = 'Obstruction'"
   ]
  },
  {
   "cell_type": "code",
   "execution_count": null,
   "id": "e207384a-54e0-426a-b89a-ceded6a6ccff",
   "metadata": {},
   "outputs": [],
   "source": [
    "df_un = df_un.drop(columns = ['Unit Type'], axis=1)\n",
    "df_un.head()"
   ]
  },
  {
   "cell_type": "code",
   "execution_count": null,
   "id": "4edb5faf-abd4-4bff-bda0-f4c75c16c9bb",
   "metadata": {},
   "outputs": [],
   "source": [
    "# Check for mixed-type data in dataframe\n",
    "\n",
    "for col in df_un.columns.tolist():\n",
    "  weird = (df_un[[col]].applymap(type) != df_un[[col]].iloc[0].apply(type)).any(axis = 1)\n",
    "  if len (df_un[weird]) > 0:\n",
    "    print (col) # No mixed-type"
   ]
  },
  {
   "cell_type": "code",
   "execution_count": null,
   "id": "5ee13649-48d1-4d1c-8ad8-b927d8ab8053",
   "metadata": {},
   "outputs": [],
   "source": [
    "df_un['Veh Year'].fillna('N/A', inplace = True)\n",
    "df_un['Direction Of Travel'].fillna('Unknown', inplace = True)\n",
    "df_un['Sex'].fillna('Unknown', inplace = True)\n",
    "df_un['Age'].fillna('Unknown', inplace = True)"
   ]
  },
  {
   "cell_type": "code",
   "execution_count": null,
   "id": "0974519a-36d6-40fe-9641-77ece2f172ee",
   "metadata": {
    "tags": []
   },
   "outputs": [],
   "source": [
    "df_un.loc[(df_un['Age'] == 'XXX') | (df_un['Age'] == 'X'), 'Age'] = 'Unknown'"
   ]
  },
  {
   "cell_type": "code",
   "execution_count": null,
   "id": "f4cf76ce-d04c-4e7a-895c-660e3c27c496",
   "metadata": {},
   "outputs": [],
   "source": [
    "strip_age = []\n",
    "\n",
    "for i in df_un['Age']:\n",
    "    if i == 'Unknown':\n",
    "        strip_age.append(i)\n",
    "    else:\n",
    "        n = 1\n",
    "        i = i[n:]\n",
    "        \n",
    "        strip_age.append(i)"
   ]
  },
  {
   "cell_type": "code",
   "execution_count": null,
   "id": "af306243-95f9-496d-9862-5c11c61da6e2",
   "metadata": {
    "tags": []
   },
   "outputs": [],
   "source": [
    "df_un['Age'] = strip_age"
   ]
  },
  {
   "cell_type": "code",
   "execution_count": null,
   "id": "efb34294-5b77-43ce-95e1-c3feefbda1fa",
   "metadata": {},
   "outputs": [],
   "source": [
    "df_un.head()"
   ]
  },
  {
   "cell_type": "markdown",
   "id": "9e360ca8-aaaf-4a89-89d9-967ff07b65fb",
   "metadata": {},
   "source": [
    "# Data Cleaning - Casualty"
   ]
  },
  {
   "cell_type": "code",
   "execution_count": null,
   "id": "3b6570ab-b54b-4c14-97f4-ef7f7483d3e8",
   "metadata": {},
   "outputs": [],
   "source": [
    "df_cas = pd.read_csv(os.path.join(path, '01. Data', 'Original data', '2021_DATA_SA_Casualty.csv'), low_memory=False)"
   ]
  },
  {
   "cell_type": "code",
   "execution_count": null,
   "id": "84a721e7-776e-4f5a-a5a0-a0acd892d167",
   "metadata": {},
   "outputs": [],
   "source": [
    "df_cas.head()"
   ]
  },
  {
   "cell_type": "code",
   "execution_count": null,
   "id": "cbeb479e-7e58-4401-b704-b93225421457",
   "metadata": {},
   "outputs": [],
   "source": [
    "df_cas = df_cas[['REPORT_ID', 'Sex', 'AGE']]\n",
    "df_cas.head()"
   ]
  },
  {
   "cell_type": "code",
   "execution_count": null,
   "id": "c5ce0aed-c9d3-4fa5-b5b9-e654e929bc6d",
   "metadata": {},
   "outputs": [],
   "source": [
    "strip_age = []\n",
    "\n",
    "for i in df_cas['AGE']:\n",
    "    if i == 'Unknown':\n",
    "        strip_age.append(i)\n",
    "    else:\n",
    "        n = 1\n",
    "        i = i[n:]\n",
    "        \n",
    "        strip_age.append(i)"
   ]
  },
  {
   "cell_type": "code",
   "execution_count": null,
   "id": "59397da1-c3f7-407d-9be4-82626f18ac47",
   "metadata": {},
   "outputs": [],
   "source": [
    "df_cas['AGE'] = strip_age"
   ]
  },
  {
   "cell_type": "code",
   "execution_count": null,
   "id": "d51089e2-e256-4ffb-8a34-9ba53842261c",
   "metadata": {},
   "outputs": [],
   "source": [
    "df_cas.rename(columns = {'Sex': 'SEX'}, inplace = True)"
   ]
  },
  {
   "cell_type": "code",
   "execution_count": null,
   "id": "c6908210-bc2b-4189-8c5a-f34c834387e4",
   "metadata": {},
   "outputs": [],
   "source": [
    "df_cas.head()"
   ]
  },
  {
   "cell_type": "markdown",
   "id": "5b3c6809-e887-48cc-8940-614ab201abeb",
   "metadata": {},
   "source": [
    "# Merging Units & Casualty"
   ]
  },
  {
   "cell_type": "code",
   "execution_count": null,
   "id": "08156791-76ff-45da-a69b-78895f1863df",
   "metadata": {},
   "outputs": [],
   "source": [
    "df_un_cas = df_un.merge(df_cas, on = 'REPORT_ID', how = 'left')"
   ]
  },
  {
   "cell_type": "code",
   "execution_count": null,
   "id": "60ebe67c-1b58-462c-8b2c-600ab7cd0a1b",
   "metadata": {},
   "outputs": [],
   "source": [
    "df_un_cas.head()"
   ]
  },
  {
   "cell_type": "code",
   "execution_count": null,
   "id": "92752fe0-007e-47c6-9307-d918d9dbed2f",
   "metadata": {},
   "outputs": [],
   "source": [
    "df_un_cas['Age'].fillna('Unknown', inplace=True)\n",
    "df_un_cas['Sex'].fillna('Unknown', inplace=True)\n",
    "\n",
    "df_un_cas['AGE'].fillna('Unknown', inplace=True)\n",
    "df_un_cas['SEX'].fillna('Unknown', inplace=True)"
   ]
  },
  {
   "cell_type": "code",
   "execution_count": null,
   "id": "97d003b4-e615-4a57-9cd9-e61c051a45be",
   "metadata": {},
   "outputs": [],
   "source": [
    "df_un_cas.info()"
   ]
  },
  {
   "cell_type": "code",
   "execution_count": null,
   "id": "463992b3-509e-4594-b114-fcf2e770fee7",
   "metadata": {},
   "outputs": [],
   "source": [
    "age = []\n",
    "\n",
    "for i in range(len(df_un_cas)):\n",
    "    if df_un_cas.iloc[i, 4] == 'Unknown' and df_un_cas.iloc[i, 7] != 'Unknown':\n",
    "        age.append(df_un_cas.iloc[i, 7])\n",
    "    else:\n",
    "        age.append(df_un_cas.iloc[i, 4])"
   ]
  },
  {
   "cell_type": "code",
   "execution_count": null,
   "id": "a9eef752-15cb-4895-976f-be63dce52d3f",
   "metadata": {
    "tags": []
   },
   "outputs": [],
   "source": [
    "len(age)"
   ]
  },
  {
   "cell_type": "code",
   "execution_count": null,
   "id": "afd85fae-70bd-489a-9172-b5bc96f154d2",
   "metadata": {},
   "outputs": [],
   "source": [
    "df_un_cas['Age'] = age"
   ]
  },
  {
   "cell_type": "code",
   "execution_count": null,
   "id": "b54558d6-23c1-421b-b3c7-47e315c313b8",
   "metadata": {
    "tags": []
   },
   "outputs": [],
   "source": [
    "unknown_age = df_un_cas.loc[df_un_cas['Age'] == 'Unknown']\n",
    "unknown_age.shape"
   ]
  },
  {
   "cell_type": "code",
   "execution_count": null,
   "id": "d0019afb-179d-4ee6-8fd2-6065f0f1d832",
   "metadata": {
    "tags": []
   },
   "outputs": [],
   "source": [
    "unknown_sex = df_un_cas.loc[df_un_cas['Sex'] == 'Unknown']\n",
    "unknown_sex .shape"
   ]
  },
  {
   "cell_type": "code",
   "execution_count": null,
   "id": "775ec169-6377-401a-b8b3-c5c93e1180fc",
   "metadata": {},
   "outputs": [],
   "source": [
    "sex = []\n",
    "\n",
    "for i in range(len(df_un_cas)):\n",
    "    if df_un_cas.iloc[i, 3] == 'Unknown' and df_un_cas.iloc[i, 6] != 'Unknown':\n",
    "        sex.append(df_un_cas.iloc[i, 6])\n",
    "    else:\n",
    "        sex.append(df_un_cas.iloc[i, 3])"
   ]
  },
  {
   "cell_type": "code",
   "execution_count": null,
   "id": "550af870-ab5b-4034-8ce1-f79863fec80f",
   "metadata": {},
   "outputs": [],
   "source": [
    "len(sex)"
   ]
  },
  {
   "cell_type": "code",
   "execution_count": null,
   "id": "a770afa2-f265-49de-bbd9-d6b69c5ad03b",
   "metadata": {},
   "outputs": [],
   "source": [
    "df_un_cas['Sex'] = sex"
   ]
  },
  {
   "cell_type": "code",
   "execution_count": null,
   "id": "e21e3ef9-eb39-4d23-8b2e-e2f2e83001bc",
   "metadata": {},
   "outputs": [],
   "source": [
    "df_un_cas['Sex'].value_counts(dropna=False)"
   ]
  },
  {
   "cell_type": "code",
   "execution_count": null,
   "id": "7eadbd46-90d9-4a61-b338-cf01b5e02018",
   "metadata": {
    "tags": []
   },
   "outputs": [],
   "source": [
    "df_un_cas['Age'].value_counts(dropna=False)"
   ]
  },
  {
   "cell_type": "code",
   "execution_count": null,
   "id": "8a5bf0ca-73f8-4ea3-9c4d-3c0c174c6bce",
   "metadata": {},
   "outputs": [],
   "source": [
    "df_un_cas = df_un_cas.drop(columns = ['SEX', 'AGE'], axis=1)\n",
    "df_un_cas.head()"
   ]
  },
  {
   "cell_type": "code",
   "execution_count": null,
   "id": "b769caef-5458-4b49-a3d5-d5bf4a21f0eb",
   "metadata": {},
   "outputs": [],
   "source": [
    "# Export data to pkl\n",
    "\n",
    "df_un_cas.to_pickle(os.path.join(path, '01. Data', 'Prepared data', 'unitcasualty_cleaned.pkl'))\n",
    "df_un_cas.to_csv(os.path.join(path, '01. Data', 'Prepared data', 'unitcasualty_cleaned.csv'), sep = ',')"
   ]
  },
  {
   "cell_type": "code",
   "execution_count": null,
   "id": "7e9efc35-6007-498a-8029-12e72fe6b48a",
   "metadata": {},
   "outputs": [],
   "source": [
    "gc.collect()"
   ]
  }
 ],
 "metadata": {
  "kernelspec": {
   "display_name": "Python 3 (ipykernel)",
   "language": "python",
   "name": "python3"
  },
  "language_info": {
   "codemirror_mode": {
    "name": "ipython",
    "version": 3
   },
   "file_extension": ".py",
   "mimetype": "text/x-python",
   "name": "python",
   "nbconvert_exporter": "python",
   "pygments_lexer": "ipython3",
   "version": "3.9.12"
  }
 },
 "nbformat": 4,
 "nbformat_minor": 5
}
