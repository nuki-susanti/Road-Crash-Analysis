{
 "cells": [
  {
   "cell_type": "code",
   "execution_count": null,
   "id": "c06dd994-3535-4a40-b767-47a605875115",
   "metadata": {},
   "outputs": [],
   "source": [
    "import pandas as pd\n",
    "import numpy as np\n",
    "import seaborn as sns\n",
    "import matplotlib.pyplot as plt\n",
    "import matplotlib\n",
    "import os\n",
    "import gc\n",
    "\n",
    "from pyproj import Proj, transform, Transformer\n",
    "import geopandas\n",
    "from geopy.geocoders import Nominatim\n",
    "import pgeocode"
   ]
  },
  {
   "cell_type": "code",
   "execution_count": null,
   "id": "bf826ab8-29a3-4780-9825-1fe1988fcdbd",
   "metadata": {},
   "outputs": [],
   "source": [
    "%matplotlib inline"
   ]
  },
  {
   "cell_type": "code",
   "execution_count": null,
   "id": "fe14f6b0-c86f-4dde-ae59-a212e1c03887",
   "metadata": {},
   "outputs": [],
   "source": [
    "path = r'C:\\Users\\nukis\\Documents\\Projects\\08. Bike Safety'"
   ]
  },
  {
   "cell_type": "code",
   "execution_count": null,
   "id": "ee389c9c-1992-4622-a4bf-586b2c4cace0",
   "metadata": {},
   "outputs": [],
   "source": [
    "df_crash = pd.read_csv(os.path.join(path, '01. Data', 'Original data', '2021_DATA_SA_Crash.csv'), low_memory=False)"
   ]
  },
  {
   "cell_type": "code",
   "execution_count": null,
   "id": "a3179566-97eb-4af0-866d-578f590682a2",
   "metadata": {},
   "outputs": [],
   "source": [
    "df_un = pd.read_csv(os.path.join(path, '01. Data', 'Original data', '2021_DATA_SA_Units.csv'), low_memory=False)"
   ]
  },
  {
   "cell_type": "code",
   "execution_count": null,
   "id": "dfb7145a-89f7-41ed-9e02-bef6d35d7839",
   "metadata": {},
   "outputs": [],
   "source": [
    "df_cas = pd.read_csv(os.path.join(path, '01. Data', 'Original data', '2021_DATA_SA_Casualty.csv'), low_memory=False)"
   ]
  },
  {
   "cell_type": "code",
   "execution_count": null,
   "id": "61df774f-e50a-4c8f-ba5e-02fa5d779cfd",
   "metadata": {
    "tags": []
   },
   "outputs": [],
   "source": [
    "# Command to maximize view of rows and columns\n",
    "pd.options.display.max_rows = None\n",
    "pd.options.display.max_columns = len(df_crash.columns)"
   ]
  },
  {
   "cell_type": "code",
   "execution_count": null,
   "id": "77e6c7b2-1a75-4f30-9ef3-3467ed8443fc",
   "metadata": {
    "tags": []
   },
   "outputs": [],
   "source": [
    "df_crash = df_crash.reset_index()\n",
    "df_crash.drop('index', axis=1, inplace=True)\n",
    "df_crash.head() "
   ]
  },
  {
   "cell_type": "code",
   "execution_count": null,
   "id": "4f99e923-7a6e-45e5-884a-0faab61490ad",
   "metadata": {},
   "outputs": [],
   "source": [
    "df_crash.shape"
   ]
  },
  {
   "cell_type": "markdown",
   "id": "b4a35e66-95f3-41fe-bd0a-caf4faf069a1",
   "metadata": {},
   "source": [
    "# Data Cleaning"
   ]
  },
  {
   "cell_type": "code",
   "execution_count": null,
   "id": "f62692fc-9485-46cf-b568-e3b6bf78cbcb",
   "metadata": {
    "tags": []
   },
   "outputs": [],
   "source": [
    "# Check for missing values\n",
    "\n",
    "df_crash.isnull().sum()"
   ]
  },
  {
   "cell_type": "code",
   "execution_count": null,
   "id": "78fe9c5a-6966-43d9-af1d-ecb56e0ef0f8",
   "metadata": {
    "tags": []
   },
   "outputs": [],
   "source": [
    "# Check for missing values\n",
    "\n",
    "pd.DataFrame(data = [round(i/len(df_crash) * 100, 2) for i in df_crash.isnull().sum().to_list()], index = df_crash.columns, columns = ['Missing Values %']).T"
   ]
  },
  {
   "cell_type": "code",
   "execution_count": null,
   "id": "14f33fa2-8c0e-4ee4-8bcd-d2f75e9a8580",
   "metadata": {},
   "outputs": [],
   "source": [
    "# Check for duplicates\n",
    "\n",
    "dups = df_crash.duplicated()\n",
    "dups.sum() #No dups"
   ]
  },
  {
   "cell_type": "code",
   "execution_count": null,
   "id": "a6c6a82d-90f8-4d03-a9df-5231cde0cd43",
   "metadata": {},
   "outputs": [],
   "source": [
    "# Check for mixed-type data in dataframe\n",
    "\n",
    "for col in df_crash.columns.tolist():\n",
    "  weird = (df_crash[[col]].applymap(type) != df_crash[[col]].iloc[0].apply(type)).any(axis = 1)\n",
    "  if len (df_crash[weird]) > 0:\n",
    "    print (col) # No mixed-type"
   ]
  },
  {
   "cell_type": "code",
   "execution_count": null,
   "id": "046f30e0-1d8f-4004-bb53-986c6246e3ce",
   "metadata": {
    "tags": []
   },
   "outputs": [],
   "source": [
    "df_crash['LGA Name'].value_counts(dropna=False)"
   ]
  },
  {
   "cell_type": "code",
   "execution_count": null,
   "id": "a5bccca4-efb4-4ae6-882d-c27573e88fca",
   "metadata": {
    "tags": []
   },
   "outputs": [],
   "source": [
    "df_crash['DUI Involved'].value_counts(dropna=False)"
   ]
  },
  {
   "cell_type": "code",
   "execution_count": null,
   "id": "ca69fe24-0f3e-4204-9d9e-5b82d6a7ffcf",
   "metadata": {
    "tags": []
   },
   "outputs": [],
   "source": [
    "df_crash['Drugs Involved'].value_counts(dropna=False)"
   ]
  },
  {
   "cell_type": "markdown",
   "id": "509323d1-03b7-4ce8-82d5-378a8b391fcd",
   "metadata": {},
   "source": [
    "Looking at the data above, following steps are performed:\n",
    "1. Suburb and LGA Name will converted to title format for easy reading.\n",
    "2. LGA NAN will be filled using X, Y. Strip '.' from LGA NAme.\n",
    "2. DUI Involved and Drugs Involved which is not 'Y' will be filled with '0' and 'Y' will be converted to '1'.\n",
    "3. Convert Year and Postcode to object.\n",
    "4. Convert Time format. Drop unncessary columns.\n",
    "5. Fill ACCLOC_X and ACCLOC_Y NAN and retrieve find lat and long features."
   ]
  },
  {
   "cell_type": "code",
   "execution_count": null,
   "id": "e7e07cb8-5ccd-4dbf-aaff-9b12f63920aa",
   "metadata": {},
   "outputs": [],
   "source": [
    "# Step 1\n",
    "\n",
    "df_crash['Suburb'] = df_crash['Suburb'].str.title()\n",
    "df_crash['LGA Name'] = df_crash['LGA Name'].str.title()"
   ]
  },
  {
   "cell_type": "code",
   "execution_count": null,
   "id": "76966809-2ce8-4235-a19a-773c115ddfef",
   "metadata": {
    "tags": []
   },
   "outputs": [],
   "source": [
    "# Step 2\n",
    "# Extracting lat long data\n",
    "\n",
    "source_crs = 3107 # Coordinate system of the file for Australia\n",
    "target_crs = 4326 # Global lat-lon coordinate system\n",
    "\n",
    "xy_to_latlon = Transformer.from_crs(source_crs, target_crs)\n",
    "\n",
    "geolocator = Nominatim(user_agent = 'geoapiExercises')\n",
    "\n",
    "df_crash['LGA Name'].fillna(0, inplace=True)\n",
    "\n",
    "for i in range(len(df_crash)):  \n",
    "    if df_crash.iloc[i, 4] == 0:\n",
    "        try:\n",
    "            x = df_crash.iloc[i, -3]\n",
    "            y = df_crash.iloc[i, -2]\n",
    "\n",
    "            lat, lon = xy_to_latlon.transform(x, y)\n",
    "            lat = str(lat)\n",
    "            lon = str(lon)\n",
    "\n",
    "            location = geolocator.reverse(lat + ','+ lon)\n",
    "            df_crash.iloc[i, 4] = location.raw['address']['city_district']\n",
    "        except:\n",
    "            df_crash.iloc[i, 4] = location.raw['address']['county']\n",
    "            print(i)"
   ]
  },
  {
   "cell_type": "code",
   "execution_count": null,
   "id": "77f0207d-bc4e-4169-a20e-889c46c56de8",
   "metadata": {
    "tags": []
   },
   "outputs": [],
   "source": [
    "df_crash['LGA Name'] = df_crash['LGA Name'].apply(lambda x: ' '.join(x.split()).replace('.', ''))"
   ]
  },
  {
   "cell_type": "code",
   "execution_count": null,
   "id": "47a25683-e31e-4740-a986-baaafed2bbfd",
   "metadata": {
    "tags": []
   },
   "outputs": [],
   "source": [
    "# Step 3\n",
    "\n",
    "df_crash['DUI Involved'].fillna(0, inplace = True)\n",
    "df_crash.loc[df_crash['DUI Involved'] == 'Y', 'DUI Involved'] = 1\n",
    "\n",
    "df_crash['Drugs Involved'].fillna(0, inplace = True)\n",
    "df_crash.loc[df_crash['Drugs Involved'] == 'Y', 'Drugs Involved'] = 1"
   ]
  },
  {
   "cell_type": "code",
   "execution_count": null,
   "id": "a0fde550-ebb0-4d73-a869-245a8abc94ea",
   "metadata": {},
   "outputs": [],
   "source": [
    "# Step 4\n",
    "\n",
    "df_crash[['Year', 'Postcode']] = df_crash[['Year', 'Postcode']].astype('str')"
   ]
  },
  {
   "cell_type": "code",
   "execution_count": null,
   "id": "94ba4f91-490d-4dae-a7cc-25c76e95e279",
   "metadata": {},
   "outputs": [],
   "source": [
    "# Step 5\n",
    "\n",
    "def convert24(str1):\n",
    "\n",
    "    # Checking if last two elements of time\n",
    "    # is AM and first two elements are 12\n",
    "    if str1[-2:] == \"am\" and str1[:2] == \"12\":\n",
    "        return \"00\" + str1[2:-2]\n",
    "         \n",
    "    # remove the AM    \n",
    "    elif str1[-2:] == \"am\":\n",
    "        return str1[:-2]\n",
    "     \n",
    "    # Checking if last two elements of time\n",
    "    # is PM and first two elements are 12\n",
    "    elif str1[-2:] == \"pm\" and str1[:2] == \"12\":\n",
    "        return str1[:-2]\n",
    "         \n",
    "    else:\n",
    "         \n",
    "        # add 12 to hours and remove PM\n",
    "        return str(int(str1[:2]) + 12) + str1[2:5]"
   ]
  },
  {
   "cell_type": "code",
   "execution_count": null,
   "id": "85adddbf-39d0-4bf9-aea5-68f26878449c",
   "metadata": {},
   "outputs": [],
   "source": [
    "# Driver Code \n",
    "time_convert = []\n",
    "\n",
    "for i in df_crash['Time']:\n",
    "    time_convert.append(convert24(i))\n",
    "    \n",
    "df_crash['Hour'] = time_convert "
   ]
  },
  {
   "cell_type": "code",
   "execution_count": null,
   "id": "e4be0a23-31bc-4172-94a5-c546f7c9fbff",
   "metadata": {},
   "outputs": [],
   "source": [
    "df_crash = df_crash.drop(columns = ['Time', 'UNIQUE_LOC'], axis=1)\n",
    "df_crash = df_crash.dropna(subset=['ACCLOC_X', 'ACCLOC_Y'], how='all')"
   ]
  },
  {
   "cell_type": "code",
   "execution_count": null,
   "id": "6dbb1db0-ae68-4fb8-8ec0-8476c7e03820",
   "metadata": {
    "tags": []
   },
   "outputs": [],
   "source": [
    "# Step 5\n",
    "\n",
    "df_crash['Lat'] = ''\n",
    "df_crash['lon'] = ''"
   ]
  },
  {
   "cell_type": "code",
   "execution_count": null,
   "id": "c2d2313a-320c-439c-bb31-6d73c7116180",
   "metadata": {},
   "outputs": [],
   "source": [
    "# Step 5\n",
    "\n",
    "def address_concate(data):\n",
    "    address = data['Suburb'] + ', ' + data['Postcode']\n",
    "    return address"
   ]
  },
  {
   "cell_type": "code",
   "execution_count": null,
   "id": "2bdd3d31-b87d-4e62-9d4d-ded60b18d165",
   "metadata": {},
   "outputs": [],
   "source": [
    "def latlon(x, y):\n",
    "    source_crs = 3107 # Coordinate system of the file for Australia\n",
    "    target_crs = 4326 # Global lat-lon coordinate system\n",
    "\n",
    "    xy_to_latlon = Transformer.from_crs(source_crs, target_crs)\n",
    "    \n",
    "    lat, lon = xy_to_latlon.transform(x, y)\n",
    "    \n",
    "    lat = str(lat)\n",
    "    lon = str(lon)\n",
    "    \n",
    "    location = geolocator.reverse(lat + ','+ lon)\n",
    "    \n",
    "    lat_result = location.raw['lat']\n",
    "    lon_result = location.raw['lon']\n",
    "    \n",
    "    return (lat_result, lon_result)"
   ]
  },
  {
   "cell_type": "code",
   "execution_count": null,
   "id": "ffec3ea2-6364-48f8-9b94-95844a84f83e",
   "metadata": {},
   "outputs": [],
   "source": [
    "def postcode(postcode):\n",
    "    nomi = pgeocode.Nominatim('au')\n",
    "    result = nomi.query_postal_code(postcode)\n",
    "\n",
    "    lat_result = result['latitude']\n",
    "    lon_result = result['longitude']\n",
    "    \n",
    "    return (lat_result, lon_result)"
   ]
  },
  {
   "cell_type": "code",
   "execution_count": null,
   "id": "677d11cd-f5f6-44af-9176-b4632c851f9c",
   "metadata": {
    "tags": []
   },
   "outputs": [],
   "source": [
    "# Step 5\n",
    "# Extracting Lat and Lon from X, Y\n",
    "\n",
    "lat_result = []\n",
    "lon_result = []\n",
    "\n",
    "for i in range(len(df_crash)):\n",
    "    try:\n",
    "        lat, lon = latlon(df_crash.iloc[i, 29], df_crash.iloc[i, 30]) # 29 & 30 are X and Y\n",
    "        \n",
    "        lat_result.append(lat)\n",
    "        lon_result.append(lon)\n",
    "    except:\n",
    "        lat, lon = postcode(df_crash.iloc[i, 3]) # 3 is postcode\n",
    "        \n",
    "        lat_result.append(lat)\n",
    "        lon_result.append(lon)"
   ]
  },
  {
   "cell_type": "code",
   "execution_count": null,
   "id": "0af09dd5-f832-4c0b-bb0f-4e97f79730ec",
   "metadata": {
    "tags": []
   },
   "outputs": [],
   "source": [
    "df_crash['Lat'] = lat_result\n",
    "df_crash['lon'] = lon_result"
   ]
  },
  {
   "cell_type": "code",
   "execution_count": null,
   "id": "1353a327-61ba-4a21-acbc-7bfbcb1ddc97",
   "metadata": {
    "tags": []
   },
   "outputs": [],
   "source": [
    "df_crash.rename(columns={'lon': 'Lon'}, inplace=True)\n",
    "df_crash = df_crash.drop(columns = ['Year', 'Other Feat', 'Unit Resp', 'ACCLOC_X', 'ACCLOC_Y'], axis=1)"
   ]
  },
  {
   "cell_type": "code",
   "execution_count": null,
   "id": "d4481a23-a241-4555-b290-ee441e2a2687",
   "metadata": {},
   "outputs": [],
   "source": [
    "df_crash.head()"
   ]
  },
  {
   "cell_type": "code",
   "execution_count": null,
   "id": "524974a9-5dd0-45bc-a7a7-27e063a5aefd",
   "metadata": {},
   "outputs": [],
   "source": [
    "# Export data to pkl\n",
    "\n",
    "df_crash.to_pickle(os.path.join(path, '01. Data', 'Prepared data', 'crash_cleaned.pkl'))\n",
    "df_crash.to_csv(os.path.join(path, '01. Data', 'Prepared data', 'crash_cleaned.csv'), sep = ',')"
   ]
  },
  {
   "cell_type": "code",
   "execution_count": null,
   "id": "7e9efc35-6007-498a-8029-12e72fe6b48a",
   "metadata": {},
   "outputs": [],
   "source": [
    "gc.collect()"
   ]
  }
 ],
 "metadata": {
  "kernelspec": {
   "display_name": "Python 3 (ipykernel)",
   "language": "python",
   "name": "python3"
  },
  "language_info": {
   "codemirror_mode": {
    "name": "ipython",
    "version": 3
   },
   "file_extension": ".py",
   "mimetype": "text/x-python",
   "name": "python",
   "nbconvert_exporter": "python",
   "pygments_lexer": "ipython3",
   "version": "3.9.12"
  }
 },
 "nbformat": 4,
 "nbformat_minor": 5
}
